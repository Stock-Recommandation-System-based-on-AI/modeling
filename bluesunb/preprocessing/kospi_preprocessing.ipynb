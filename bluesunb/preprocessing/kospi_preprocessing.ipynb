{
 "cells": [
  {
   "cell_type": "code",
   "execution_count": 1,
   "metadata": {
    "collapsed": true,
    "pycharm": {
     "name": "#%%\n"
    }
   },
   "outputs": [],
   "source": [
    "import numpy as np\n",
    "import pandas as pd"
   ]
  },
  {
   "cell_type": "code",
   "execution_count": 2,
   "outputs": [
    {
     "data": {
      "text/plain": "           code           name      date      open      high       low  \\\n0          U182  kospi50_index  20030102 -0.000572  0.003749 -0.017282   \n1          U182  kospi50_index  20030103 -0.016228  0.002173 -0.020027   \n2          U182  kospi50_index  20030106 -0.003413  0.002105 -0.014164   \n3          U182  kospi50_index  20030107  0.042358  0.042912 -0.000457   \n4          U182  kospi50_index  20030108  0.007934  0.014432 -0.001829   \n...         ...            ...       ...       ...       ...       ...   \n147835  A005380            현대차  20210826 -0.002381  0.009524 -0.009524   \n147836  A005380            현대차  20210827  0.002398  0.004796 -0.016787   \n147837  A005380            현대차  20210830  0.004762  0.011905  0.000000   \n147838  A005380            현대차  20210831 -0.011765  0.000000 -0.021176   \n147839  A005380            현대차  20210901 -0.004651  0.016279 -0.006977   \n\n           close      z_d5     z_d10     z_d15     z_d20     z_d25     z_d30  \n0       0.000000  0.000000  0.000000  0.000000  0.000000  0.000000  0.000000  \n1       0.044230 -0.021178 -0.021178 -0.021178 -0.021178 -0.021178 -0.021178  \n2       0.009321 -0.020145 -0.020145 -0.020145 -0.020145 -0.020145 -0.020145  \n3      -0.022060  0.001468  0.001468  0.001468  0.001468  0.001468  0.001468  \n4      -0.000962  0.001946  0.001946  0.001946  0.001946  0.001946  0.001946  \n...          ...       ...       ...       ...       ...       ...       ...  \n147835  0.002387 -0.014762  0.001190  0.017937  0.027381  0.036381  0.045238  \n147836 -0.007143 -0.000959  0.003357  0.020624  0.031535  0.040000  0.049081  \n147837  0.007194 -0.002381 -0.007143  0.009365  0.022262  0.029619  0.038413  \n147838  0.011905 -0.011294 -0.019059 -0.005176  0.008471  0.015247  0.023843  \n147839  0.011765 -0.017674 -0.029302 -0.017984 -0.005233  0.001581  0.010078  \n\n[147840 rows x 13 columns]",
      "text/html": "<div>\n<style scoped>\n    .dataframe tbody tr th:only-of-type {\n        vertical-align: middle;\n    }\n\n    .dataframe tbody tr th {\n        vertical-align: top;\n    }\n\n    .dataframe thead th {\n        text-align: right;\n    }\n</style>\n<table border=\"1\" class=\"dataframe\">\n  <thead>\n    <tr style=\"text-align: right;\">\n      <th></th>\n      <th>code</th>\n      <th>name</th>\n      <th>date</th>\n      <th>open</th>\n      <th>high</th>\n      <th>low</th>\n      <th>close</th>\n      <th>z_d5</th>\n      <th>z_d10</th>\n      <th>z_d15</th>\n      <th>z_d20</th>\n      <th>z_d25</th>\n      <th>z_d30</th>\n    </tr>\n  </thead>\n  <tbody>\n    <tr>\n      <th>0</th>\n      <td>U182</td>\n      <td>kospi50_index</td>\n      <td>20030102</td>\n      <td>-0.000572</td>\n      <td>0.003749</td>\n      <td>-0.017282</td>\n      <td>0.000000</td>\n      <td>0.000000</td>\n      <td>0.000000</td>\n      <td>0.000000</td>\n      <td>0.000000</td>\n      <td>0.000000</td>\n      <td>0.000000</td>\n    </tr>\n    <tr>\n      <th>1</th>\n      <td>U182</td>\n      <td>kospi50_index</td>\n      <td>20030103</td>\n      <td>-0.016228</td>\n      <td>0.002173</td>\n      <td>-0.020027</td>\n      <td>0.044230</td>\n      <td>-0.021178</td>\n      <td>-0.021178</td>\n      <td>-0.021178</td>\n      <td>-0.021178</td>\n      <td>-0.021178</td>\n      <td>-0.021178</td>\n    </tr>\n    <tr>\n      <th>2</th>\n      <td>U182</td>\n      <td>kospi50_index</td>\n      <td>20030106</td>\n      <td>-0.003413</td>\n      <td>0.002105</td>\n      <td>-0.014164</td>\n      <td>0.009321</td>\n      <td>-0.020145</td>\n      <td>-0.020145</td>\n      <td>-0.020145</td>\n      <td>-0.020145</td>\n      <td>-0.020145</td>\n      <td>-0.020145</td>\n    </tr>\n    <tr>\n      <th>3</th>\n      <td>U182</td>\n      <td>kospi50_index</td>\n      <td>20030107</td>\n      <td>0.042358</td>\n      <td>0.042912</td>\n      <td>-0.000457</td>\n      <td>-0.022060</td>\n      <td>0.001468</td>\n      <td>0.001468</td>\n      <td>0.001468</td>\n      <td>0.001468</td>\n      <td>0.001468</td>\n      <td>0.001468</td>\n    </tr>\n    <tr>\n      <th>4</th>\n      <td>U182</td>\n      <td>kospi50_index</td>\n      <td>20030108</td>\n      <td>0.007934</td>\n      <td>0.014432</td>\n      <td>-0.001829</td>\n      <td>-0.000962</td>\n      <td>0.001946</td>\n      <td>0.001946</td>\n      <td>0.001946</td>\n      <td>0.001946</td>\n      <td>0.001946</td>\n      <td>0.001946</td>\n    </tr>\n    <tr>\n      <th>...</th>\n      <td>...</td>\n      <td>...</td>\n      <td>...</td>\n      <td>...</td>\n      <td>...</td>\n      <td>...</td>\n      <td>...</td>\n      <td>...</td>\n      <td>...</td>\n      <td>...</td>\n      <td>...</td>\n      <td>...</td>\n      <td>...</td>\n    </tr>\n    <tr>\n      <th>147835</th>\n      <td>A005380</td>\n      <td>현대차</td>\n      <td>20210826</td>\n      <td>-0.002381</td>\n      <td>0.009524</td>\n      <td>-0.009524</td>\n      <td>0.002387</td>\n      <td>-0.014762</td>\n      <td>0.001190</td>\n      <td>0.017937</td>\n      <td>0.027381</td>\n      <td>0.036381</td>\n      <td>0.045238</td>\n    </tr>\n    <tr>\n      <th>147836</th>\n      <td>A005380</td>\n      <td>현대차</td>\n      <td>20210827</td>\n      <td>0.002398</td>\n      <td>0.004796</td>\n      <td>-0.016787</td>\n      <td>-0.007143</td>\n      <td>-0.000959</td>\n      <td>0.003357</td>\n      <td>0.020624</td>\n      <td>0.031535</td>\n      <td>0.040000</td>\n      <td>0.049081</td>\n    </tr>\n    <tr>\n      <th>147837</th>\n      <td>A005380</td>\n      <td>현대차</td>\n      <td>20210830</td>\n      <td>0.004762</td>\n      <td>0.011905</td>\n      <td>0.000000</td>\n      <td>0.007194</td>\n      <td>-0.002381</td>\n      <td>-0.007143</td>\n      <td>0.009365</td>\n      <td>0.022262</td>\n      <td>0.029619</td>\n      <td>0.038413</td>\n    </tr>\n    <tr>\n      <th>147838</th>\n      <td>A005380</td>\n      <td>현대차</td>\n      <td>20210831</td>\n      <td>-0.011765</td>\n      <td>0.000000</td>\n      <td>-0.021176</td>\n      <td>0.011905</td>\n      <td>-0.011294</td>\n      <td>-0.019059</td>\n      <td>-0.005176</td>\n      <td>0.008471</td>\n      <td>0.015247</td>\n      <td>0.023843</td>\n    </tr>\n    <tr>\n      <th>147839</th>\n      <td>A005380</td>\n      <td>현대차</td>\n      <td>20210901</td>\n      <td>-0.004651</td>\n      <td>0.016279</td>\n      <td>-0.006977</td>\n      <td>0.011765</td>\n      <td>-0.017674</td>\n      <td>-0.029302</td>\n      <td>-0.017984</td>\n      <td>-0.005233</td>\n      <td>0.001581</td>\n      <td>0.010078</td>\n    </tr>\n  </tbody>\n</table>\n<p>147840 rows × 13 columns</p>\n</div>"
     },
     "execution_count": 2,
     "metadata": {},
     "output_type": "execute_result"
    }
   ],
   "source": [
    "df = pd.read_csv('../data/preprocessed_kospi31_daily_stock_chart.csv')\n",
    "df"
   ],
   "metadata": {
    "collapsed": false,
    "pycharm": {
     "name": "#%%\n"
    }
   }
  },
  {
   "cell_type": "code",
   "execution_count": 3,
   "outputs": [
    {
     "data": {
      "text/plain": "           code           name      date      open      high       low  \\\n0          U182  kospi50_index  20030103 -0.016228  0.002173 -0.020027   \n1          U182  kospi50_index  20030106 -0.003413  0.002105 -0.014164   \n2          U182  kospi50_index  20030107  0.042358  0.042912 -0.000457   \n3          U182  kospi50_index  20030108  0.007934  0.014432 -0.001829   \n4          U182  kospi50_index  20030109  0.023883  0.025510  0.000000   \n...         ...            ...       ...       ...       ...       ...   \n147834  A005380            현대차  20210826 -0.002381  0.009524 -0.009524   \n147835  A005380            현대차  20210827  0.002398  0.004796 -0.016787   \n147836  A005380            현대차  20210830  0.004762  0.011905  0.000000   \n147837  A005380            현대차  20210831 -0.011765  0.000000 -0.021176   \n147838  A005380            현대차  20210901 -0.004651  0.016279 -0.006977   \n\n           close      z_d5     z_d10     z_d15     z_d20     z_d25     z_d30  \n0       0.044230 -0.021178 -0.021178 -0.021178 -0.021178 -0.021178 -0.021178  \n1       0.009321 -0.020145 -0.020145 -0.020145 -0.020145 -0.020145 -0.020145  \n2      -0.022060  0.001468  0.001468  0.001468  0.001468  0.001468  0.001468  \n3      -0.000962  0.001946  0.001946  0.001946  0.001946  0.001946  0.001946  \n4      -0.036831  0.038606  0.033550  0.033550  0.033550  0.033550  0.033550  \n...          ...       ...       ...       ...       ...       ...       ...  \n147834  0.002387 -0.014762  0.001190  0.017937  0.027381  0.036381  0.045238  \n147835 -0.007143 -0.000959  0.003357  0.020624  0.031535  0.040000  0.049081  \n147836  0.007194 -0.002381 -0.007143  0.009365  0.022262  0.029619  0.038413  \n147837  0.011905 -0.011294 -0.019059 -0.005176  0.008471  0.015247  0.023843  \n147838  0.011765 -0.017674 -0.029302 -0.017984 -0.005233  0.001581  0.010078  \n\n[147839 rows x 13 columns]",
      "text/html": "<div>\n<style scoped>\n    .dataframe tbody tr th:only-of-type {\n        vertical-align: middle;\n    }\n\n    .dataframe tbody tr th {\n        vertical-align: top;\n    }\n\n    .dataframe thead th {\n        text-align: right;\n    }\n</style>\n<table border=\"1\" class=\"dataframe\">\n  <thead>\n    <tr style=\"text-align: right;\">\n      <th></th>\n      <th>code</th>\n      <th>name</th>\n      <th>date</th>\n      <th>open</th>\n      <th>high</th>\n      <th>low</th>\n      <th>close</th>\n      <th>z_d5</th>\n      <th>z_d10</th>\n      <th>z_d15</th>\n      <th>z_d20</th>\n      <th>z_d25</th>\n      <th>z_d30</th>\n    </tr>\n  </thead>\n  <tbody>\n    <tr>\n      <th>0</th>\n      <td>U182</td>\n      <td>kospi50_index</td>\n      <td>20030103</td>\n      <td>-0.016228</td>\n      <td>0.002173</td>\n      <td>-0.020027</td>\n      <td>0.044230</td>\n      <td>-0.021178</td>\n      <td>-0.021178</td>\n      <td>-0.021178</td>\n      <td>-0.021178</td>\n      <td>-0.021178</td>\n      <td>-0.021178</td>\n    </tr>\n    <tr>\n      <th>1</th>\n      <td>U182</td>\n      <td>kospi50_index</td>\n      <td>20030106</td>\n      <td>-0.003413</td>\n      <td>0.002105</td>\n      <td>-0.014164</td>\n      <td>0.009321</td>\n      <td>-0.020145</td>\n      <td>-0.020145</td>\n      <td>-0.020145</td>\n      <td>-0.020145</td>\n      <td>-0.020145</td>\n      <td>-0.020145</td>\n    </tr>\n    <tr>\n      <th>2</th>\n      <td>U182</td>\n      <td>kospi50_index</td>\n      <td>20030107</td>\n      <td>0.042358</td>\n      <td>0.042912</td>\n      <td>-0.000457</td>\n      <td>-0.022060</td>\n      <td>0.001468</td>\n      <td>0.001468</td>\n      <td>0.001468</td>\n      <td>0.001468</td>\n      <td>0.001468</td>\n      <td>0.001468</td>\n    </tr>\n    <tr>\n      <th>3</th>\n      <td>U182</td>\n      <td>kospi50_index</td>\n      <td>20030108</td>\n      <td>0.007934</td>\n      <td>0.014432</td>\n      <td>-0.001829</td>\n      <td>-0.000962</td>\n      <td>0.001946</td>\n      <td>0.001946</td>\n      <td>0.001946</td>\n      <td>0.001946</td>\n      <td>0.001946</td>\n      <td>0.001946</td>\n    </tr>\n    <tr>\n      <th>4</th>\n      <td>U182</td>\n      <td>kospi50_index</td>\n      <td>20030109</td>\n      <td>0.023883</td>\n      <td>0.025510</td>\n      <td>0.000000</td>\n      <td>-0.036831</td>\n      <td>0.038606</td>\n      <td>0.033550</td>\n      <td>0.033550</td>\n      <td>0.033550</td>\n      <td>0.033550</td>\n      <td>0.033550</td>\n    </tr>\n    <tr>\n      <th>...</th>\n      <td>...</td>\n      <td>...</td>\n      <td>...</td>\n      <td>...</td>\n      <td>...</td>\n      <td>...</td>\n      <td>...</td>\n      <td>...</td>\n      <td>...</td>\n      <td>...</td>\n      <td>...</td>\n      <td>...</td>\n      <td>...</td>\n    </tr>\n    <tr>\n      <th>147834</th>\n      <td>A005380</td>\n      <td>현대차</td>\n      <td>20210826</td>\n      <td>-0.002381</td>\n      <td>0.009524</td>\n      <td>-0.009524</td>\n      <td>0.002387</td>\n      <td>-0.014762</td>\n      <td>0.001190</td>\n      <td>0.017937</td>\n      <td>0.027381</td>\n      <td>0.036381</td>\n      <td>0.045238</td>\n    </tr>\n    <tr>\n      <th>147835</th>\n      <td>A005380</td>\n      <td>현대차</td>\n      <td>20210827</td>\n      <td>0.002398</td>\n      <td>0.004796</td>\n      <td>-0.016787</td>\n      <td>-0.007143</td>\n      <td>-0.000959</td>\n      <td>0.003357</td>\n      <td>0.020624</td>\n      <td>0.031535</td>\n      <td>0.040000</td>\n      <td>0.049081</td>\n    </tr>\n    <tr>\n      <th>147836</th>\n      <td>A005380</td>\n      <td>현대차</td>\n      <td>20210830</td>\n      <td>0.004762</td>\n      <td>0.011905</td>\n      <td>0.000000</td>\n      <td>0.007194</td>\n      <td>-0.002381</td>\n      <td>-0.007143</td>\n      <td>0.009365</td>\n      <td>0.022262</td>\n      <td>0.029619</td>\n      <td>0.038413</td>\n    </tr>\n    <tr>\n      <th>147837</th>\n      <td>A005380</td>\n      <td>현대차</td>\n      <td>20210831</td>\n      <td>-0.011765</td>\n      <td>0.000000</td>\n      <td>-0.021176</td>\n      <td>0.011905</td>\n      <td>-0.011294</td>\n      <td>-0.019059</td>\n      <td>-0.005176</td>\n      <td>0.008471</td>\n      <td>0.015247</td>\n      <td>0.023843</td>\n    </tr>\n    <tr>\n      <th>147838</th>\n      <td>A005380</td>\n      <td>현대차</td>\n      <td>20210901</td>\n      <td>-0.004651</td>\n      <td>0.016279</td>\n      <td>-0.006977</td>\n      <td>0.011765</td>\n      <td>-0.017674</td>\n      <td>-0.029302</td>\n      <td>-0.017984</td>\n      <td>-0.005233</td>\n      <td>0.001581</td>\n      <td>0.010078</td>\n    </tr>\n  </tbody>\n</table>\n<p>147839 rows × 13 columns</p>\n</div>"
     },
     "execution_count": 3,
     "metadata": {},
     "output_type": "execute_result"
    }
   ],
   "source": [
    "df = df[1:]\n",
    "df.index = np.arange(len(df))\n",
    "df"
   ],
   "metadata": {
    "collapsed": false,
    "pycharm": {
     "name": "#%%\n"
    }
   }
  },
  {
   "cell_type": "code",
   "execution_count": 4,
   "outputs": [],
   "source": [
    "def market_stock_split(df):\n",
    "    market_df = df[df.code=='U182']\n",
    "    stock_df = df[df.code!='U182']\n",
    "    return market_df, stock_df\n",
    "\n",
    "def stock_seperate(stocks):\n",
    "    stock_names = stocks['name'].unique()\n",
    "    res = []\n",
    "    for stock in stock_names:\n",
    "        res.append(stocks[stocks.name==stock])\n",
    "    return res\n",
    "\n",
    "def train_test_split(stocks_df, test_pct=0.2, valid_pct=0.2):\n",
    "    if not isinstance(stocks_df, (list, tuple)):\n",
    "        return train_test_split([stocks_df], test_pct, valid_pct)\n",
    "\n",
    "    stocks_train, stocks_valid, stocks_test = [],[],[]\n",
    "    for stock in stocks_df:\n",
    "        test_size = int(len(stock)*test_pct)\n",
    "        valid_size = int(len(stock)*valid_pct)\n",
    "        train_size = len(stock) - test_size - valid_size\n",
    "\n",
    "        stocks_train.append(stock[:train_size])\n",
    "        stocks_valid.append(stock[train_size:train_size+valid_size])\n",
    "        stocks_test.append(stock[-test_size:])\n",
    "\n",
    "    return stocks_train, stocks_valid, stocks_test\n",
    "\n",
    "def input_target_split(stocks_df):\n",
    "    target = [stock['close'].apply(lambda x: int(x>0)) for stock in stocks_df]\n",
    "    return stocks_df, target\n",
    "\n",
    "def window_split(inputs, targets, window_size=10):\n",
    "    inputs = inputs.values\n",
    "    targets = targets.values\n",
    "    X = []\n",
    "    y = []\n",
    "    for i in range(window_size, len(inputs)):\n",
    "        X.append(inputs[i-window_size:i])\n",
    "        y.append(targets[i])\n",
    "\n",
    "    return np.array(X), np.array(y)\n",
    "\n",
    "def stocks_window_split(stocks_inputs, stocks_target, window_size=10):\n",
    "    X,y = [],[]\n",
    "    for j in range(window_size, len(stocks_inputs[0])):\n",
    "        bucket_X = []\n",
    "        bucket_y = []\n",
    "        for i in range(len(stocks_inputs)):\n",
    "            stock = stocks_inputs[i].values\n",
    "            target = stocks_target[i].values\n",
    "            bucket_X.append(stock[j-window_size:j])\n",
    "            bucket_y.append(target[j])\n",
    "        X.append(bucket_X)\n",
    "        y.append(bucket_y)\n",
    "    return np.array(X), np.array(y)\n",
    "\n",
    "def prepare_data(df, **kwargs):\n",
    "    market, stocks = market_stock_split(df)\n",
    "    stocks = stock_seperate(stocks)\n",
    "    print(len(stocks))\n",
    "    for i in range(len(stocks)):\n",
    "        stocks[i].drop(['code','name', 'date'], axis=1, inplace=True)\n",
    "    market.drop(['code','name', 'date'], axis=1, inplace=True)\n",
    "\n",
    "    market_train_valid_test = train_test_split(market,\n",
    "                                               test_pct=kwargs.get('test_pct'),\n",
    "                                               valid_pct=kwargs.get('valid_pct')) # [m_train], [m_valid], [m_test]\n",
    "    stock_train_valid_test = train_test_split(stocks,\n",
    "                                              test_pct=kwargs.get('test_pct'),\n",
    "                                              valid_pct=kwargs.get('valid_pct')) # [s_train1, ...], [s_valid1, ...], [s_test1, ...]\n",
    "\n",
    "    print(f'market_train_valid_test: {len(market_train_valid_test)}')\n",
    "    print(f'market_train_valid_test[0]: {len(market_train_valid_test[0])}')\n",
    "\n",
    "    print(f'stock_train_valid_test: {len(stock_train_valid_test)}')\n",
    "    print(f'stock_train_valid_test[0]: {len(stock_train_valid_test[0])}')\n",
    "    print(f'stock_train_valid_test[0][0]: {stock_train_valid_test[0][0].shape}')\n",
    "\n",
    "    market_data = [input_target_split(m) for m in market_train_valid_test] # [([m_train_X], [m_train_y]), (...), (...)]\n",
    "    stock_data = [input_target_split(s) for s in stock_train_valid_test] # [([s_train1_X, ...], [s_train1_y, ...]), (...), (...)]\n",
    "\n",
    "    print(f'market_data: {len(market_data)}')\n",
    "    print(f'market_data[0]: {len(market_data[0])}')\n",
    "    print(f'market_data[0][0]: {len(market_data[0][0])}')\n",
    "    print(f'market_data[0][0][0]: {market_data[0][0][0].shape}')\n",
    "\n",
    "    print(f'stock_data: {len(stock_data)}')\n",
    "    print(f'stock_data[0]: {len(stock_data[0])}')\n",
    "    print(f'stock_data[0][0]: {len(stock_data[0][0])}')\n",
    "    print(f'stock_data[0][0][0]: {stock_data[0][0][0].shape}')\n",
    "\n",
    "    window_size = kwargs['window_size']\n",
    "    market_data = [stocks_window_split(*m, window_size) for m in market_data]\n",
    "    stock_data = [stocks_window_split(*s, window_size) for s in stock_data]\n",
    "    return market_data, stock_data"
   ],
   "metadata": {
    "collapsed": false,
    "pycharm": {
     "name": "#%%\n"
    }
   }
  },
  {
   "cell_type": "code",
   "execution_count": 7,
   "outputs": [
    {
     "name": "stdout",
     "output_type": "stream",
     "text": [
      "31\n",
      "market_train_valid_test: 3\n",
      "market_train_valid_test[0]: 1\n",
      "stock_train_valid_test: 3\n",
      "stock_train_valid_test[0]: 31\n",
      "stock_train_valid_test[0][0]: (2772, 10)\n",
      "market_data: 3\n",
      "market_data[0]: 2\n",
      "market_data[0][0]: 1\n",
      "market_data[0][0][0]: (2773, 10)\n",
      "stock_data: 3\n",
      "stock_data[0]: 2\n",
      "stock_data[0][0]: 31\n",
      "stock_data[0][0][0]: (2772, 10)\n"
     ]
    },
    {
     "name": "stderr",
     "output_type": "stream",
     "text": [
      "C:\\Users\\bluesun\\anaconda3\\envs\\rl\\lib\\site-packages\\pandas\\core\\frame.py:4308: SettingWithCopyWarning: \n",
      "A value is trying to be set on a copy of a slice from a DataFrame\n",
      "\n",
      "See the caveats in the documentation: https://pandas.pydata.org/pandas-docs/stable/user_guide/indexing.html#returning-a-view-versus-a-copy\n",
      "  return super().drop(\n"
     ]
    }
   ],
   "source": [
    "options = {\n",
    "    'window_size':10,\n",
    "    'test_pct':0.2,\n",
    "    'valid_pct':0.2,\n",
    "}\n",
    "market_data, stock_data = prepare_data(df, **options)"
   ],
   "metadata": {
    "collapsed": false,
    "pycharm": {
     "name": "#%%\n"
    }
   }
  },
  {
   "cell_type": "code",
   "execution_count": 14,
   "outputs": [],
   "source": [
    "(X_train_m, y_train_m), (X_vaild_m, y_vaild_m), (X_tset_m, y_test_m) = market_data\n",
    "(X_train_s, y_train_s), (X_vaild_s, y_vaild_s), (X_tset_s, y_test_s) = stock_data"
   ],
   "metadata": {
    "collapsed": false,
    "pycharm": {
     "name": "#%%\n"
    }
   }
  },
  {
   "cell_type": "code",
   "execution_count": 16,
   "outputs": [
    {
     "data": {
      "text/plain": "(2762, 31, 10, 10)"
     },
     "execution_count": 16,
     "metadata": {},
     "output_type": "execute_result"
    }
   ],
   "source": [
    "X_train_s.shape"
   ],
   "metadata": {
    "collapsed": false,
    "pycharm": {
     "name": "#%%\n"
    }
   }
  },
  {
   "cell_type": "code",
   "execution_count": 17,
   "outputs": [
    {
     "data": {
      "text/plain": "(914, 31, 10, 10)"
     },
     "execution_count": 17,
     "metadata": {},
     "output_type": "execute_result"
    }
   ],
   "source": [
    "X_vaild_s.shape\n"
   ],
   "metadata": {
    "collapsed": false,
    "pycharm": {
     "name": "#%%\n"
    }
   }
  },
  {
   "cell_type": "code",
   "execution_count": 19,
   "outputs": [
    {
     "data": {
      "text/plain": "118271"
     },
     "execution_count": 19,
     "metadata": {},
     "output_type": "execute_result"
    }
   ],
   "source": [
    "int(len(df)*0.8)"
   ],
   "metadata": {
    "collapsed": false,
    "pycharm": {
     "name": "#%%\n"
    }
   }
  },
  {
   "cell_type": "code",
   "execution_count": 21,
   "outputs": [
    {
     "data": {
      "text/plain": "           code name      date      open      high       low     close  \\\n4619    A030200   KT  20030102  0.018036  0.022044 -0.006012  0.000000   \n4620    A030200   KT  20030103 -0.034351  0.000000 -0.041985  0.050100   \n4621    A030200   KT  20030106 -0.009542  0.005725 -0.019084  0.000000   \n4622    A030200   KT  20030107  0.036893  0.036893 -0.003883 -0.017176   \n4623    A030200   KT  20030108  0.003846  0.019231 -0.007692  0.009709   \n...         ...  ...       ...       ...       ...       ...       ...   \n147834  A005380  현대차  20210826 -0.002381  0.009524 -0.009524  0.002387   \n147835  A005380  현대차  20210827  0.002398  0.004796 -0.016787 -0.007143   \n147836  A005380  현대차  20210830  0.004762  0.011905  0.000000  0.007194   \n147837  A005380  현대차  20210831 -0.011765  0.000000 -0.021176  0.011905   \n147838  A005380  현대차  20210901 -0.004651  0.016279 -0.006977  0.011765   \n\n            z_d5     z_d10     z_d15     z_d20     z_d25     z_d30  \n4619    0.000000  0.000000  0.000000  0.000000  0.000000  0.000000  \n4620   -0.023855 -0.023855 -0.023855 -0.023855 -0.023855 -0.023855  \n4621   -0.015903 -0.015903 -0.015903 -0.015903 -0.015903 -0.015903  \n4622    0.000971  0.000971  0.000971  0.000971  0.000971  0.000971  \n4623   -0.006923 -0.006923 -0.006923 -0.006923 -0.006923 -0.006923  \n...          ...       ...       ...       ...       ...       ...  \n147834 -0.014762  0.001190  0.017937  0.027381  0.036381  0.045238  \n147835 -0.000959  0.003357  0.020624  0.031535  0.040000  0.049081  \n147836 -0.002381 -0.007143  0.009365  0.022262  0.029619  0.038413  \n147837 -0.011294 -0.019059 -0.005176  0.008471  0.015247  0.023843  \n147838 -0.017674 -0.029302 -0.017984 -0.005233  0.001581  0.010078  \n\n[143220 rows x 13 columns]",
      "text/html": "<div>\n<style scoped>\n    .dataframe tbody tr th:only-of-type {\n        vertical-align: middle;\n    }\n\n    .dataframe tbody tr th {\n        vertical-align: top;\n    }\n\n    .dataframe thead th {\n        text-align: right;\n    }\n</style>\n<table border=\"1\" class=\"dataframe\">\n  <thead>\n    <tr style=\"text-align: right;\">\n      <th></th>\n      <th>code</th>\n      <th>name</th>\n      <th>date</th>\n      <th>open</th>\n      <th>high</th>\n      <th>low</th>\n      <th>close</th>\n      <th>z_d5</th>\n      <th>z_d10</th>\n      <th>z_d15</th>\n      <th>z_d20</th>\n      <th>z_d25</th>\n      <th>z_d30</th>\n    </tr>\n  </thead>\n  <tbody>\n    <tr>\n      <th>4619</th>\n      <td>A030200</td>\n      <td>KT</td>\n      <td>20030102</td>\n      <td>0.018036</td>\n      <td>0.022044</td>\n      <td>-0.006012</td>\n      <td>0.000000</td>\n      <td>0.000000</td>\n      <td>0.000000</td>\n      <td>0.000000</td>\n      <td>0.000000</td>\n      <td>0.000000</td>\n      <td>0.000000</td>\n    </tr>\n    <tr>\n      <th>4620</th>\n      <td>A030200</td>\n      <td>KT</td>\n      <td>20030103</td>\n      <td>-0.034351</td>\n      <td>0.000000</td>\n      <td>-0.041985</td>\n      <td>0.050100</td>\n      <td>-0.023855</td>\n      <td>-0.023855</td>\n      <td>-0.023855</td>\n      <td>-0.023855</td>\n      <td>-0.023855</td>\n      <td>-0.023855</td>\n    </tr>\n    <tr>\n      <th>4621</th>\n      <td>A030200</td>\n      <td>KT</td>\n      <td>20030106</td>\n      <td>-0.009542</td>\n      <td>0.005725</td>\n      <td>-0.019084</td>\n      <td>0.000000</td>\n      <td>-0.015903</td>\n      <td>-0.015903</td>\n      <td>-0.015903</td>\n      <td>-0.015903</td>\n      <td>-0.015903</td>\n      <td>-0.015903</td>\n    </tr>\n    <tr>\n      <th>4622</th>\n      <td>A030200</td>\n      <td>KT</td>\n      <td>20030107</td>\n      <td>0.036893</td>\n      <td>0.036893</td>\n      <td>-0.003883</td>\n      <td>-0.017176</td>\n      <td>0.000971</td>\n      <td>0.000971</td>\n      <td>0.000971</td>\n      <td>0.000971</td>\n      <td>0.000971</td>\n      <td>0.000971</td>\n    </tr>\n    <tr>\n      <th>4623</th>\n      <td>A030200</td>\n      <td>KT</td>\n      <td>20030108</td>\n      <td>0.003846</td>\n      <td>0.019231</td>\n      <td>-0.007692</td>\n      <td>0.009709</td>\n      <td>-0.006923</td>\n      <td>-0.006923</td>\n      <td>-0.006923</td>\n      <td>-0.006923</td>\n      <td>-0.006923</td>\n      <td>-0.006923</td>\n    </tr>\n    <tr>\n      <th>...</th>\n      <td>...</td>\n      <td>...</td>\n      <td>...</td>\n      <td>...</td>\n      <td>...</td>\n      <td>...</td>\n      <td>...</td>\n      <td>...</td>\n      <td>...</td>\n      <td>...</td>\n      <td>...</td>\n      <td>...</td>\n      <td>...</td>\n    </tr>\n    <tr>\n      <th>147834</th>\n      <td>A005380</td>\n      <td>현대차</td>\n      <td>20210826</td>\n      <td>-0.002381</td>\n      <td>0.009524</td>\n      <td>-0.009524</td>\n      <td>0.002387</td>\n      <td>-0.014762</td>\n      <td>0.001190</td>\n      <td>0.017937</td>\n      <td>0.027381</td>\n      <td>0.036381</td>\n      <td>0.045238</td>\n    </tr>\n    <tr>\n      <th>147835</th>\n      <td>A005380</td>\n      <td>현대차</td>\n      <td>20210827</td>\n      <td>0.002398</td>\n      <td>0.004796</td>\n      <td>-0.016787</td>\n      <td>-0.007143</td>\n      <td>-0.000959</td>\n      <td>0.003357</td>\n      <td>0.020624</td>\n      <td>0.031535</td>\n      <td>0.040000</td>\n      <td>0.049081</td>\n    </tr>\n    <tr>\n      <th>147836</th>\n      <td>A005380</td>\n      <td>현대차</td>\n      <td>20210830</td>\n      <td>0.004762</td>\n      <td>0.011905</td>\n      <td>0.000000</td>\n      <td>0.007194</td>\n      <td>-0.002381</td>\n      <td>-0.007143</td>\n      <td>0.009365</td>\n      <td>0.022262</td>\n      <td>0.029619</td>\n      <td>0.038413</td>\n    </tr>\n    <tr>\n      <th>147837</th>\n      <td>A005380</td>\n      <td>현대차</td>\n      <td>20210831</td>\n      <td>-0.011765</td>\n      <td>0.000000</td>\n      <td>-0.021176</td>\n      <td>0.011905</td>\n      <td>-0.011294</td>\n      <td>-0.019059</td>\n      <td>-0.005176</td>\n      <td>0.008471</td>\n      <td>0.015247</td>\n      <td>0.023843</td>\n    </tr>\n    <tr>\n      <th>147838</th>\n      <td>A005380</td>\n      <td>현대차</td>\n      <td>20210901</td>\n      <td>-0.004651</td>\n      <td>0.016279</td>\n      <td>-0.006977</td>\n      <td>0.011765</td>\n      <td>-0.017674</td>\n      <td>-0.029302</td>\n      <td>-0.017984</td>\n      <td>-0.005233</td>\n      <td>0.001581</td>\n      <td>0.010078</td>\n    </tr>\n  </tbody>\n</table>\n<p>143220 rows × 13 columns</p>\n</div>"
     },
     "execution_count": 21,
     "metadata": {},
     "output_type": "execute_result"
    }
   ],
   "source": [
    "df[df.code!='U182']"
   ],
   "metadata": {
    "collapsed": false,
    "pycharm": {
     "name": "#%%\n"
    }
   }
  }
 ],
 "metadata": {
  "kernelspec": {
   "display_name": "Python 3",
   "language": "python",
   "name": "python3"
  },
  "language_info": {
   "codemirror_mode": {
    "name": "ipython",
    "version": 2
   },
   "file_extension": ".py",
   "mimetype": "text/x-python",
   "name": "python",
   "nbconvert_exporter": "python",
   "pygments_lexer": "ipython2",
   "version": "2.7.6"
  }
 },
 "nbformat": 4,
 "nbformat_minor": 0
}