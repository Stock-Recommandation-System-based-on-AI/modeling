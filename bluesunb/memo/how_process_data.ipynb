{
 "cells": [
  {
   "cell_type": "markdown",
   "metadata": {
    "collapsed": true,
    "pycharm": {
     "name": "#%% md\n"
    }
   },
   "source": [
    "[모델 레퍼런스](https://github.com/JanSchm/CapMarket/blob/master/bot_experiments/IBM_PriceFeatures.ipynb_\n",
    "\n",
    "## BiLSTM의 Local minima 문제\n",
    "BiLSTM과 CNN-BiLSTM을 비교했을 떄 둘 모두 MAPE가 수렴했지만, 모델은 close price들의 중간값만을 찾는 곳으로 수렴했다.\n",
    "\n",
    "즉, Local minimum이 너무 촘촘한 것이 문제(?)\n",
    "\n",
    "### 해결 아이디어\n",
    "1. stock price들의 시간축(가로축)을 늘리는 것은 어떨까?\n",
    "이를테면, [1,2,3,4] -> [1, -, 2, -, 3, -, 4, -, 5] -> [1, 1.5, 2, 2.5, 3, 3.5, 4, 4.5, 5]\n",
    "    - 어느정도 해볼만한 이유: 위의 문제가 moving average 방법으로 다소 해결되었다.\n",
    "    즉, 너무 oscillation 이 많은 것이 문제(?)\n",
    "\n",
    "\n",
    "## TransformerEncoder의 lagging 문제\n",
    "TransformerEncoder는 1-Day prediction에서 탁월한 성능을 보여줬지만, Teacher forcing 방법으로 검증했을 때,\n",
    "좋지 않은 성능을 보였다.\n",
    "또한, multi-day prediction에서는 minima에 적절히 수렴하지 않았다.\n",
    "\n",
    "### 해결 아이디어\n",
    "1. CNN 레이어를 LSTM으로 바꾼다?\n",
    "2. Attention Layer를 적절히 조정한다?\n",
    "    - 적절히란 말을 구체화 할 것.\n"
   ]
  }
 ],
 "metadata": {
  "kernelspec": {
   "display_name": "Python 3",
   "language": "python",
   "name": "python3"
  },
  "language_info": {
   "codemirror_mode": {
    "name": "ipython",
    "version": 2
   },
   "file_extension": ".py",
   "mimetype": "text/x-python",
   "name": "python",
   "nbconvert_exporter": "python",
   "pygments_lexer": "ipython2",
   "version": "2.7.6"
  }
 },
 "nbformat": 4,
 "nbformat_minor": 0
}