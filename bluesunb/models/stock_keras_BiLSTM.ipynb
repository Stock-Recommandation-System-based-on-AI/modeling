{
 "cells": [
  {
   "cell_type": "code",
   "execution_count": null,
   "outputs": [],
   "source": [
    "import numpy as np\n",
    "import pandas as pd\n",
    "import tensorflow as tf\n",
    "\n",
    "import matplotlib.pyplot as plt\n",
    "plt.style.use('seaborn')\n",
    "\n",
    "import warnings\n",
    "warnings.filterwarnings('ignore')\n",
    "\n",
    "import os"
   ],
   "metadata": {
    "collapsed": false,
    "pycharm": {
     "name": "#%%\n"
    }
   }
  },
  {
   "cell_type": "code",
   "execution_count": null,
   "outputs": [],
   "source": [
    "from bluesunb.preprocessing.stock_preprocessing import load_data_with_preprocessing\n",
    "\n",
    "options = {\n",
    "    'seq_len': 128,\n",
    "    'pred_len': 7,\n",
    "    'using_cols': ['open', 'high', 'low', 'close', 'vol'],\n",
    "}\n",
    "file_path = os.path.abspath('../data/samsung-stock-data-2000-2021.csv')\n",
    "(X_train, y_train), (X_valid, y_valid), (X_test, y_test), df = \\\n",
    "    load_data_with_preprocessing(file_path, options)"
   ],
   "metadata": {
    "collapsed": false,
    "pycharm": {
     "name": "#%%\n"
    }
   }
  },
  {
   "cell_type": "code",
   "execution_count": null,
   "metadata": {
    "collapsed": true
   },
   "outputs": [],
   "source": [
    "seq_len = options['seq_len']\n",
    "pred_len = options['pred_len']\n",
    "d_k = int(256*5/8)\n",
    "d_v = int(256*5/8)\n",
    "batch_size = 24\n",
    "n_heads = 12\n",
    "ff_dim = int(256*5/8)"
   ]
  }
 ],
 "metadata": {
  "kernelspec": {
   "display_name": "Python 3",
   "language": "python",
   "name": "python3"
  },
  "language_info": {
   "codemirror_mode": {
    "name": "ipython",
    "version": 2
   },
   "file_extension": ".py",
   "mimetype": "text/x-python",
   "name": "python",
   "nbconvert_exporter": "python",
   "pygments_lexer": "ipython2",
   "version": "2.7.6"
  }
 },
 "nbformat": 4,
 "nbformat_minor": 0
}