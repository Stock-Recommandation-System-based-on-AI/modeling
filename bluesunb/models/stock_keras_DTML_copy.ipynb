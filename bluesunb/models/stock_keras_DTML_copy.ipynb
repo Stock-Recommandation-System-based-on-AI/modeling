{
 "cells": [
  {
   "cell_type": "code",
   "execution_count": 1,
   "outputs": [],
   "source": [
    "import numpy as np\n",
    "import tensorflow as tf"
   ],
   "metadata": {
    "collapsed": false,
    "pycharm": {
     "name": "#%%\n"
    }
   }
  },
  {
   "cell_type": "code",
   "execution_count": 2,
   "outputs": [],
   "source": [
    "batch_size = 32\n",
    "num_stocks = 31\n",
    "seq_len = 10\n",
    "num_features = 10\n",
    "num_market_features = num_features\n",
    "\n",
    "beta = 10.01\n",
    "units = 64\n",
    "ft_dim = 32\n",
    "n_heads = 12"
   ],
   "metadata": {
    "collapsed": false,
    "pycharm": {
     "name": "#%%\n"
    }
   }
  },
  {
   "cell_type": "code",
   "execution_count": 27,
   "outputs": [],
   "source": [
    "from tensorflow.python.keras.layers import Layer, Dense, LSTM, Dropout, LayerNormalization, Input, Conv1d\n",
    "from tensorflow.python.keras.models import Model\n",
    "class FeatureTransformation(Layer):\n",
    "    def __init__(self, ft_dim, **kwargs):\n",
    "        super(FeatureTransformation, self).__init__(**kwargs)\n",
    "        self.ft_dim = ft_dim\n",
    "\n",
    "    def build(self, input_shape):\n",
    "        self.ft_linear = Dense(self.ft_dim,\n",
    "                               input_shape=input_shape,\n",
    "                               kernel_initializer='glorot_uniform',\n",
    "                               bias_initializer='glorot_uniform',\n",
    "                               activation='tanh')\n",
    "\n",
    "    def call(self, inputs, *args, **kwargs):\n",
    "        x = tf.reshape(inputs, shape=(-1, inputs.shape[2], inputs.shape[3]))\n",
    "        x = self.ft_linear(x)\n",
    "        return x\n",
    "\n",
    "    def get_config(self):\n",
    "        config = super().get_config().copy()\n",
    "        config.update({'ft_dim': self.ft_dim})\n",
    "        return config\n",
    "\n",
    "\n",
    "class AttentionLSTM(Layer):\n",
    "    def __init__(self, units, num_stocks, **kwargs):\n",
    "        super(AttentionLSTM, self).__init__(**kwargs)\n",
    "        self.units = units\n",
    "        self.num_stocks = num_stocks\n",
    "\n",
    "    def build(self, input_shape):\n",
    "        self.lstm = LSTM(self.units, return_sequences=True, return_state=False)\n",
    "\n",
    "    def call(self, inputs, *args, **kwargs):\n",
    "        feature = self.lstm(inputs)\n",
    "        attn = tf.matmul(feature, feature[:,-1:,:], transpose_b=True)\n",
    "        attn = tf.nn.softmax(attn, axis=-1)\n",
    "\n",
    "        attn = tf.reshape(attn, shape=(-1, self.num_stocks, attn.shape[1], attn.shape[2]))\n",
    "        feature = tf.reshape(feature, shape=(-1, self.num_stocks, feature.shape[1], feature.shape[2]))\n",
    "        context = tf.reduce_sum(attn*feature, axis=2)\n",
    "        return context\n",
    "\n",
    "    def get_config(self):\n",
    "        config = super().get_config().copy()\n",
    "        config.update({'units': self.units,\n",
    "                       'num_stocks':self.num_stocks})\n",
    "        return config\n",
    "\n",
    "\n",
    "class ContextNormalize(Layer):\n",
    "    def __init__(self, **kwargs):\n",
    "        super(ContextNormalize, self).__init__(**kwargs)\n",
    "\n",
    "    def build(self, input_shape):\n",
    "        shape = input_shape[1:]\n",
    "        self.norm_weight = self.add_weight(name='norm_weight',\n",
    "                                           shape=shape,\n",
    "                                           initializer='uniform',\n",
    "                                           trainable=True)\n",
    "\n",
    "        self.norm_bias = self.add_weight(name='norm_bias',\n",
    "                                         shape=shape,\n",
    "                                         initializer='uniform',\n",
    "                                         trainable=True)\n",
    "\n",
    "    def call(self, context, *args, **kwargs):\n",
    "        context = (context - tf.math.reduce_mean(context))/tf.math.reduce_std(context)\n",
    "        context = self.norm_weight*context+self.norm_bias\n",
    "        return context\n",
    "\n",
    "    def get_config(self):\n",
    "        config = super(ContextNormalize, self).get_config().copy()\n",
    "        return config\n",
    "\n",
    "\n",
    "class MultiLevelAggregator(Layer):\n",
    "    def __init__(self, beta, **kwargs):\n",
    "        super(MultiLevelAggregator, self).__init__(**kwargs)\n",
    "        self.beta = beta\n",
    "\n",
    "    def call(self, inputs, *args, **kwargs):\n",
    "        stocks_context = inputs[0]\n",
    "        market_context = inputs[1]\n",
    "        multi_context = stocks_context + self.beta*market_context\n",
    "        # multi_context = tf.matmul(multi_context, multi_context, transpose_b=True)\n",
    "        return multi_context\n",
    "\n",
    "    def get_config(self):\n",
    "        config = super(MultiLevelAggregator, self).get_config().copy()\n",
    "        config.update({'beta':self.beta})\n",
    "        return config\n",
    "\n",
    "\n",
    "class Transformer(Layer):\n",
    "    def __init__(self, num_heads, key_dim, value_dim, **kwargs):\n",
    "        super(Transformer, self).__init__()\n",
    "        self.num_heads = num_heads\n",
    "        self.key_dim = key_dim\n",
    "        self.value_dim = value_dim\n",
    "\n",
    "    def build(self, input_shape):\n",
    "        feature_size = input_shape[0][-1]\n",
    "        self.multi_attn = MultiHeadAttention(self.num_heads,\n",
    "                                             key_dim=self.key_dim,\n",
    "                                             value_dim=self.value_dim,\n",
    "                                             dropout=0.15,\n",
    "                                             use_bias=False)\n",
    "\n",
    "        self.attn_norm = LayerNormalization(input_shape=input_shape, epsilon=1e-6)\n",
    "        self.mlp_linear1 = Dense(4*feature_size,\n",
    "                                 name='mlp_linear1',\n",
    "                                 input_shape=input_shape,\n",
    "                                 kernel_initializer='glorot_uniform',\n",
    "                                 bias_initializer='glorot_uniform',\n",
    "                                 activation='relu')\n",
    "\n",
    "        self.mlp_linear2 = Dense(feature_size,\n",
    "                                 name='mlp_linear2',\n",
    "                                 kernel_initializer='glorot_uniform',\n",
    "                                 bias_initializer='glorot_uniform',\n",
    "                                 activation='relu')\n",
    "        self.dropout = Dropout(0.15)\n",
    "        self.layer_norm2 = LayerNormalization(input_shape=input_shape,\n",
    "                                             epsilon=1e-6)\n",
    "\n",
    "    def call(self, inputs, *args, **kwargs):\n",
    "        hidden1, hidden2 = inputs[0], inputs[1]\n",
    "        attn_weight = self.multi_attn(hidden1, hidden2)\n",
    "        attn_weight = self.attn_norm(attn_weight)\n",
    "        residual_context = hidden1 + attn_weight\n",
    "\n",
    "        mlp_context = self.mlp_linear1(residual_context)\n",
    "        mlp_context = self.mlp_linear2(mlp_context)\n",
    "        residual_context = tf.nn.tanh(residual_context + mlp_context)\n",
    "        residual_context = self.dropout(residual_context)\n",
    "        residual_context = self.layer_norm2(residual_context)\n",
    "\n",
    "        return residual_context\n",
    "\n",
    "    def get_config(self):\n",
    "        config = super(Transformer, self).get_config().copy()\n",
    "        config.update({'num_heads': self.num_heads,\n",
    "                       'key_dim':self.key_dim,\n",
    "                       'value_dim': self.value_dim})\n",
    "\n",
    "class NonlinearPrediction(Layer):\n",
    "    def __init__(self, **kwargs):\n",
    "        super(NonlinearPrediction, self).__init__(**kwargs)\n",
    "\n",
    "    def build(self, input_shape):\n",
    "        self.hidden_size = input_shape[0][-1]\n",
    "        self.layer_norm1 = LayerNormalization(input_shape=input_shape,\n",
    "                                              epsilon=1e-6)\n",
    "        self.mlp_linear1 = Dense(4*self.hidden_size,\n",
    "                                 name='mlp_linear1',\n",
    "                                 input_shape=input_shape,\n",
    "                                 kernel_initializer='glorot_uniform',\n",
    "                                 bias_initializer='glorot_uniform',\n",
    "                                 activation='relu')\n",
    "\n",
    "        self.mlp_linear2 = Dense(self.hidden_size,\n",
    "                                 name='mlp_linear2',\n",
    "                                 kernel_initializer='glorot_uniform',\n",
    "                                 bias_initializer='glorot_uniform',\n",
    "                                 activation='relu')\n",
    "\n",
    "        self.dropout = Dropout(0.15)\n",
    "        self.layer_norm2 = LayerNormalization(input_shape=input_shape,\n",
    "                                             epsilon=1e-6)\n",
    "\n",
    "        self.pred_linear = Dense(1,\n",
    "                                 name='pred_linear',\n",
    "                                 input_shape=input_shape,\n",
    "                                 kernel_initializer='glorot_uniform',\n",
    "                                 bias_initializer='glorot_uniform',\n",
    "                                 kernel_regularizer='l2',\n",
    "                                 bias_regularizer='l2',\n",
    "                                 activation='sigmoid')\n",
    "\n",
    "    def call(self, inputs, *args, **kwargs):\n",
    "        context, attn_weights = inputs[0], inputs[1]\n",
    "        residual_context = self.layer_norm1(context + attn_weights)\n",
    "        # residual_context = context + attn_weights\n",
    "\n",
    "        mlp_context = self.mlp_linear1(residual_context)\n",
    "        mlp_context = self.mlp_linear2(mlp_context)\n",
    "\n",
    "        residual_context = tf.nn.tanh(residual_context + mlp_context)\n",
    "        residual_context = self.dropout(residual_context)\n",
    "        residual_context = self.layer_norm2(residual_context)\n",
    "\n",
    "        output = self.pred_linear(residual_context)\n",
    "        return output\n",
    "\n",
    "    def get_config(self):\n",
    "        config = super(NonlinearPrediction, self).get_config().copy()\n",
    "        config.update({'hiddn_size':self.hidden_size})\n",
    "        return config"
   ],
   "metadata": {
    "collapsed": false,
    "pycharm": {
     "name": "#%%\n"
    }
   }
  },
  {
   "cell_type": "code",
   "execution_count": 28,
   "outputs": [],
   "source": [
    "from keras import backend as K\n",
    "from tensorflow.python.keras.optimizer_v2.adam import Adam\n",
    "from tensorflow.python.keras.layers import MultiHeadAttention\n",
    "def mcc(y_true, y_pred):\n",
    "    tp = K.sum(K.round(K.clip(y_true * y_pred, 0, 1)))\n",
    "    tn = K.sum(K.round(K.clip((1 - y_true) * (1 - y_pred), 0, 1)))\n",
    "    fp = K.sum(K.round(K.clip((1 - y_true) * y_pred, 0, 1)))\n",
    "    fn = K.sum(K.round(K.clip(y_true * (1 - y_pred), 0, 1)))\n",
    "\n",
    "    num = tp * tn - fp * fn\n",
    "    den = (tp + fp) * (tp + fn) * (tn + fp) * (tn + fn)\n",
    "    return num / K.sqrt(den + K.epsilon())\n",
    "\n",
    "def create_model():\n",
    "    feature_trans_stock = FeatureTransformation(ft_dim)\n",
    "    feature_trans_market = FeatureTransformation(ft_dim)\n",
    "    attn_lstm_stock = AttentionLSTM(units, num_stocks)\n",
    "    attn_lstm_market = AttentionLSTM(units, 1)\n",
    "    context_norm_stock = ContextNormalize()\n",
    "    context_norm_market = ContextNormalize()\n",
    "    multi_lvl_aggregator = MultiLevelAggregator(beta)\n",
    "    # data_axis_attention = MultiAttention(n_heads)\n",
    "    data_axis_attention = MultiHeadAttention(num_heads=n_heads,\n",
    "                                             key_dim=num_stocks,\n",
    "                                             value_dim=num_stocks,\n",
    "                                             dropout=0.15,\n",
    "                                             use_bias=False)\n",
    "    # dropout = Dropout(0.15)\n",
    "    # layer_norm = LayerNormalization(epsilon=1e-6)\n",
    "    nonlinear_pred = NonlinearPrediction()\n",
    "\n",
    "    stock_inputs = Input(shape=(num_stocks, seq_len, num_features))\n",
    "    market_inputs = Input(shape=(1, seq_len, num_market_features))\n",
    "\n",
    "    stock_features = feature_trans_stock(stock_inputs)\n",
    "    market_features = feature_trans_market(market_inputs)\n",
    "    stock_attn = context_norm_stock(attn_lstm_stock(stock_features))\n",
    "    market_attn = context_norm_market(attn_lstm_market(market_features))\n",
    "\n",
    "    context = multi_lvl_aggregator([stock_attn, market_attn])\n",
    "\n",
    "    # attn_weight = data_axis_attention((context, context, context))\n",
    "    attn_weight = data_axis_attention(context, context)\n",
    "    # attn_weight = dropout(attn_weight)\n",
    "    # attn_weight = layer_norm(attn_weight)\n",
    "    output = nonlinear_pred([context, attn_weight])\n",
    "\n",
    "    model = Model(inputs=[stock_inputs, market_inputs], outputs=output)\n",
    "    model.compile(loss='binary_crossentropy', optimizer=Adam(lr=1e-3), metrics=['accuracy', mcc])\n",
    "    return model"
   ],
   "metadata": {
    "collapsed": false,
    "pycharm": {
     "name": "#%%\n"
    }
   }
  },
  {
   "cell_type": "code",
   "execution_count": 29,
   "outputs": [
    {
     "name": "stderr",
     "output_type": "stream",
     "text": [
      "C:\\Users\\bluesun\\AppData\\Roaming\\Python\\Python38\\site-packages\\tensorflow\\python\\keras\\optimizer_v2\\optimizer_v2.py:374: UserWarning: The `lr` argument is deprecated, use `learning_rate` instead.\n",
      "  warnings.warn(\n"
     ]
    },
    {
     "data": {
      "image/png": "[encoded data removed]",
      "text/plain": "<IPython.core.display.Image object>"
     },
     "execution_count": 29,
     "metadata": {},
     "output_type": "execute_result"
    }
   ],
   "source": [
    "from tensorflow.python.keras.utils.vis_utils import plot_model\n",
    "model = create_model()\n",
    "plot_model(model, show_shapes=True, show_layer_names=True)"
   ],
   "metadata": {
    "collapsed": false,
    "pycharm": {
     "name": "#%%\n"
    }
   }
  },
  {
   "cell_type": "code",
   "execution_count": 12,
   "outputs": [
    {
     "name": "stdout",
     "output_type": "stream",
     "text": [
      "31\n"
     ]
    },
    {
     "name": "stderr",
     "output_type": "stream",
     "text": [
      "C:\\Users\\bluesun\\anaconda3\\envs\\rl\\lib\\site-packages\\pandas\\core\\frame.py:4308: SettingWithCopyWarning: \n",
      "A value is trying to be set on a copy of a slice from a DataFrame\n",
      "\n",
      "See the caveats in the documentation: https://pandas.pydata.org/pandas-docs/stable/user_guide/indexing.html#returning-a-view-versus-a-copy\n",
      "  return super().drop(\n"
     ]
    }
   ],
   "source": [
    "import os\n",
    "from bluesunb.preprocessing.kospi_preprocessing import prepare_data\n",
    "path = os.path.abspath('../data/preprocessed_kospi31_daily_stock_chart.csv')\n",
    "option = {\n",
    "    'window_size':seq_len,\n",
    "    'test_pct':0.2,\n",
    "    'valid_pct':0.2\n",
    "}\n",
    "market_data, stock_data, df = prepare_data(path, **option)\n",
    "(X_train_m, y_train_m), (X_valid_m, y_valid_m), (X_test_m, y_test_m) = market_data\n",
    "(X_train_s, y_train_s), (X_valid_s, y_valid_s), (X_test_s, y_test_s) = stock_data"
   ],
   "metadata": {
    "collapsed": false,
    "pycharm": {
     "name": "#%%\n"
    }
   }
  },
  {
   "cell_type": "code",
   "execution_count": null,
   "outputs": [],
   "source": [
    "from tensorflow.python.keras.callbacks import EarlyStopping, ModelCheckpoint\n",
    "es = EarlyStopping(monitor='val_loss', mode='min', verbose=1, patience=10)\n",
    "mc = ModelCheckpoint('dtml.h5', monitor='val_accuracy', mode='max', verbose=1, save_best_only=True)\n",
    "history = model.fit(x=(X_train_s, X_train_m), y=y_train_s, epochs=100,\n",
    "                    validation_data=((X_valid_s, X_valid_m), y_valid_s),\n",
    "                    callbacks=[es, mc])"
   ],
   "metadata": {
    "collapsed": false,
    "pycharm": {
     "name": "#%%\n"
    }
   }
  },
  {
   "cell_type": "code",
   "execution_count": 11,
   "outputs": [],
   "source": [
    "import matplotlib.pyplot as plt"
   ],
   "metadata": {
    "collapsed": false,
    "pycharm": {
     "name": "#%%\n"
    }
   }
  },
  {
   "cell_type": "code",
   "execution_count": 16,
   "outputs": [],
   "source": [
    "stocks = []\n",
    "stocks_df = df[df.code!='U182']\n",
    "for c in stocks_df['name'].unique():\n",
    "    stocks.append(df[df.name==c])"
   ],
   "metadata": {
    "collapsed": false,
    "pycharm": {
     "name": "#%%\n"
    }
   }
  },
  {
   "cell_type": "code",
   "execution_count": null,
   "outputs": [],
   "source": [
    "predicts = model.predict((X_train_s, X_train_m))"
   ],
   "metadata": {
    "collapsed": false,
    "pycharm": {
     "name": "#%%\n"
    }
   }
  },
  {
   "cell_type": "code",
   "execution_count": 14,
   "outputs": [
    {
     "name": "stdout",
     "output_type": "stream",
     "text": [
      "<class 'tensorflow.python.keras.engine.input_layer.InputLayer'>\n",
      "{'batch_input_shape': [None, 31, 10, 10], 'dtype': 'float32', 'sparse': False, 'ragged': False, 'name': 'input_1'}\n",
      "<class 'tensorflow.python.keras.engine.input_layer.InputLayer'>\n",
      "{'batch_input_shape': [None, 1, 10, 10], 'dtype': 'float32', 'sparse': False, 'ragged': False, 'name': 'input_2'}\n",
      "<class '__main__.FeatureTransformation'>\n",
      "{'name': 'feature_transformation', 'trainable': True, 'dtype': 'float32', 'ft_dim': 32}\n",
      "<class '__main__.FeatureTransformation'>\n",
      "{'name': 'feature_transformation_1', 'trainable': True, 'dtype': 'float32', 'ft_dim': 32}\n",
      "<class '__main__.AttentionLSTM'>\n",
      "{'name': 'attention_lstm', 'trainable': True, 'dtype': 'float32', 'units': 64, 'num_stocks:': 31}\n"
     ]
    },
    {
     "ename": "TypeError",
     "evalue": "__init__() missing 1 required positional argument: 'num_stocks'",
     "output_type": "error",
     "traceback": [
      "\u001B[1;31m---------------------------------------------------------------------------\u001B[0m",
      "\u001B[1;31mTypeError\u001B[0m                                 Traceback (most recent call last)",
      "\u001B[1;32m<ipython-input-14-3e2119eacccb>\u001B[0m in \u001B[0;36m<module>\u001B[1;34m\u001B[0m\n\u001B[0;32m      1\u001B[0m \u001B[1;32mfrom\u001B[0m \u001B[0mtensorflow\u001B[0m\u001B[1;33m.\u001B[0m\u001B[0mpython\u001B[0m\u001B[1;33m.\u001B[0m\u001B[0mkeras\u001B[0m\u001B[1;33m.\u001B[0m\u001B[0mmodels\u001B[0m \u001B[1;32mimport\u001B[0m \u001B[0mload_model\u001B[0m\u001B[1;33m\u001B[0m\u001B[1;33m\u001B[0m\u001B[0m\n\u001B[1;32m----> 2\u001B[1;33m model = load_model('dtml.h5', custom_objects={'FeatureTransformation':FeatureTransformation,\n\u001B[0m\u001B[0;32m      3\u001B[0m                                               \u001B[1;34m'AttentionLSTM'\u001B[0m\u001B[1;33m:\u001B[0m \u001B[0mAttentionLSTM\u001B[0m\u001B[1;33m,\u001B[0m\u001B[1;33m\u001B[0m\u001B[1;33m\u001B[0m\u001B[0m\n\u001B[0;32m      4\u001B[0m                                               \u001B[1;34m'ContextNormalize'\u001B[0m\u001B[1;33m:\u001B[0m \u001B[0mContextNormalize\u001B[0m\u001B[1;33m,\u001B[0m\u001B[1;33m\u001B[0m\u001B[1;33m\u001B[0m\u001B[0m\n\u001B[0;32m      5\u001B[0m                                               \u001B[1;34m'MultilevelAggregator'\u001B[0m\u001B[1;33m:\u001B[0m \u001B[0mMultiLevelAggregator\u001B[0m\u001B[1;33m,\u001B[0m\u001B[1;33m\u001B[0m\u001B[1;33m\u001B[0m\u001B[0m\n",
      "\u001B[1;32m~\\AppData\\Roaming\\Python\\Python38\\site-packages\\tensorflow\\python\\keras\\saving\\save.py\u001B[0m in \u001B[0;36mload_model\u001B[1;34m(filepath, custom_objects, compile, options)\u001B[0m\n\u001B[0;32m    199\u001B[0m         if (h5py is not None and\n\u001B[0;32m    200\u001B[0m             (isinstance(filepath, h5py.File) or h5py.is_hdf5(filepath))):\n\u001B[1;32m--> 201\u001B[1;33m           return hdf5_format.load_model_from_hdf5(filepath, custom_objects,\n\u001B[0m\u001B[0;32m    202\u001B[0m                                                   compile)\n\u001B[0;32m    203\u001B[0m \u001B[1;33m\u001B[0m\u001B[0m\n",
      "\u001B[1;32m~\\AppData\\Roaming\\Python\\Python38\\site-packages\\tensorflow\\python\\keras\\saving\\hdf5_format.py\u001B[0m in \u001B[0;36mload_model_from_hdf5\u001B[1;34m(filepath, custom_objects, compile)\u001B[0m\n\u001B[0;32m    178\u001B[0m       \u001B[0mmodel_config\u001B[0m \u001B[1;33m=\u001B[0m \u001B[0mmodel_config\u001B[0m\u001B[1;33m.\u001B[0m\u001B[0mdecode\u001B[0m\u001B[1;33m(\u001B[0m\u001B[1;34m'utf-8'\u001B[0m\u001B[1;33m)\u001B[0m\u001B[1;33m\u001B[0m\u001B[1;33m\u001B[0m\u001B[0m\n\u001B[0;32m    179\u001B[0m     \u001B[0mmodel_config\u001B[0m \u001B[1;33m=\u001B[0m \u001B[0mjson_utils\u001B[0m\u001B[1;33m.\u001B[0m\u001B[0mdecode\u001B[0m\u001B[1;33m(\u001B[0m\u001B[0mmodel_config\u001B[0m\u001B[1;33m)\u001B[0m\u001B[1;33m\u001B[0m\u001B[1;33m\u001B[0m\u001B[0m\n\u001B[1;32m--> 180\u001B[1;33m     model = model_config_lib.model_from_config(model_config,\n\u001B[0m\u001B[0;32m    181\u001B[0m                                                custom_objects=custom_objects)\n\u001B[0;32m    182\u001B[0m \u001B[1;33m\u001B[0m\u001B[0m\n",
      "\u001B[1;32m~\\AppData\\Roaming\\Python\\Python38\\site-packages\\tensorflow\\python\\keras\\saving\\model_config.py\u001B[0m in \u001B[0;36mmodel_from_config\u001B[1;34m(config, custom_objects)\u001B[0m\n\u001B[0;32m     57\u001B[0m                     '`Sequential.from_config(config)`?')\n\u001B[0;32m     58\u001B[0m   \u001B[1;32mfrom\u001B[0m \u001B[0mtensorflow\u001B[0m\u001B[1;33m.\u001B[0m\u001B[0mpython\u001B[0m\u001B[1;33m.\u001B[0m\u001B[0mkeras\u001B[0m\u001B[1;33m.\u001B[0m\u001B[0mlayers\u001B[0m \u001B[1;32mimport\u001B[0m \u001B[0mdeserialize\u001B[0m  \u001B[1;31m# pylint: disable=g-import-not-at-top\u001B[0m\u001B[1;33m\u001B[0m\u001B[1;33m\u001B[0m\u001B[0m\n\u001B[1;32m---> 59\u001B[1;33m   \u001B[1;32mreturn\u001B[0m \u001B[0mdeserialize\u001B[0m\u001B[1;33m(\u001B[0m\u001B[0mconfig\u001B[0m\u001B[1;33m,\u001B[0m \u001B[0mcustom_objects\u001B[0m\u001B[1;33m=\u001B[0m\u001B[0mcustom_objects\u001B[0m\u001B[1;33m)\u001B[0m\u001B[1;33m\u001B[0m\u001B[1;33m\u001B[0m\u001B[0m\n\u001B[0m\u001B[0;32m     60\u001B[0m \u001B[1;33m\u001B[0m\u001B[0m\n\u001B[0;32m     61\u001B[0m \u001B[1;33m\u001B[0m\u001B[0m\n",
      "\u001B[1;32m~\\AppData\\Roaming\\Python\\Python38\\site-packages\\tensorflow\\python\\keras\\layers\\serialization.py\u001B[0m in \u001B[0;36mdeserialize\u001B[1;34m(config, custom_objects)\u001B[0m\n\u001B[0;32m    157\u001B[0m   \"\"\"\n\u001B[0;32m    158\u001B[0m   \u001B[0mpopulate_deserializable_objects\u001B[0m\u001B[1;33m(\u001B[0m\u001B[1;33m)\u001B[0m\u001B[1;33m\u001B[0m\u001B[1;33m\u001B[0m\u001B[0m\n\u001B[1;32m--> 159\u001B[1;33m   return generic_utils.deserialize_keras_object(\n\u001B[0m\u001B[0;32m    160\u001B[0m       \u001B[0mconfig\u001B[0m\u001B[1;33m,\u001B[0m\u001B[1;33m\u001B[0m\u001B[1;33m\u001B[0m\u001B[0m\n\u001B[0;32m    161\u001B[0m       \u001B[0mmodule_objects\u001B[0m\u001B[1;33m=\u001B[0m\u001B[0mLOCAL\u001B[0m\u001B[1;33m.\u001B[0m\u001B[0mALL_OBJECTS\u001B[0m\u001B[1;33m,\u001B[0m\u001B[1;33m\u001B[0m\u001B[1;33m\u001B[0m\u001B[0m\n",
      "\u001B[1;32m~\\AppData\\Roaming\\Python\\Python38\\site-packages\\tensorflow\\python\\keras\\utils\\generic_utils.py\u001B[0m in \u001B[0;36mdeserialize_keras_object\u001B[1;34m(identifier, module_objects, custom_objects, printable_module_name)\u001B[0m\n\u001B[0;32m    666\u001B[0m \u001B[1;33m\u001B[0m\u001B[0m\n\u001B[0;32m    667\u001B[0m       \u001B[1;32mif\u001B[0m \u001B[1;34m'custom_objects'\u001B[0m \u001B[1;32min\u001B[0m \u001B[0marg_spec\u001B[0m\u001B[1;33m.\u001B[0m\u001B[0margs\u001B[0m\u001B[1;33m:\u001B[0m\u001B[1;33m\u001B[0m\u001B[1;33m\u001B[0m\u001B[0m\n\u001B[1;32m--> 668\u001B[1;33m         deserialized_obj = cls.from_config(\n\u001B[0m\u001B[0;32m    669\u001B[0m             \u001B[0mcls_config\u001B[0m\u001B[1;33m,\u001B[0m\u001B[1;33m\u001B[0m\u001B[1;33m\u001B[0m\u001B[0m\n\u001B[0;32m    670\u001B[0m             custom_objects=dict(\n",
      "\u001B[1;32m~\\AppData\\Roaming\\Python\\Python38\\site-packages\\tensorflow\\python\\keras\\engine\\functional.py\u001B[0m in \u001B[0;36mfrom_config\u001B[1;34m(cls, config, custom_objects)\u001B[0m\n\u001B[0;32m    666\u001B[0m     \"\"\"\n\u001B[0;32m    667\u001B[0m     \u001B[1;32mwith\u001B[0m \u001B[0mgeneric_utils\u001B[0m\u001B[1;33m.\u001B[0m\u001B[0mSharedObjectLoadingScope\u001B[0m\u001B[1;33m(\u001B[0m\u001B[1;33m)\u001B[0m\u001B[1;33m:\u001B[0m\u001B[1;33m\u001B[0m\u001B[1;33m\u001B[0m\u001B[0m\n\u001B[1;32m--> 668\u001B[1;33m       input_tensors, output_tensors, created_layers = reconstruct_from_config(\n\u001B[0m\u001B[0;32m    669\u001B[0m           config, custom_objects)\n\u001B[0;32m    670\u001B[0m       model = cls(inputs=input_tensors, outputs=output_tensors,\n",
      "\u001B[1;32m~\\AppData\\Roaming\\Python\\Python38\\site-packages\\tensorflow\\python\\keras\\engine\\functional.py\u001B[0m in \u001B[0;36mreconstruct_from_config\u001B[1;34m(config, custom_objects, created_layers)\u001B[0m\n\u001B[0;32m   1277\u001B[0m   \u001B[1;31m# First, we create all layers and enqueue nodes to be processed\u001B[0m\u001B[1;33m\u001B[0m\u001B[1;33m\u001B[0m\u001B[1;33m\u001B[0m\u001B[0m\n\u001B[0;32m   1278\u001B[0m   \u001B[1;32mfor\u001B[0m \u001B[0mlayer_data\u001B[0m \u001B[1;32min\u001B[0m \u001B[0mconfig\u001B[0m\u001B[1;33m[\u001B[0m\u001B[1;34m'layers'\u001B[0m\u001B[1;33m]\u001B[0m\u001B[1;33m:\u001B[0m\u001B[1;33m\u001B[0m\u001B[1;33m\u001B[0m\u001B[0m\n\u001B[1;32m-> 1279\u001B[1;33m     \u001B[0mprocess_layer\u001B[0m\u001B[1;33m(\u001B[0m\u001B[0mlayer_data\u001B[0m\u001B[1;33m)\u001B[0m\u001B[1;33m\u001B[0m\u001B[1;33m\u001B[0m\u001B[0m\n\u001B[0m\u001B[0;32m   1280\u001B[0m   \u001B[1;31m# Then we process nodes in order of layer depth.\u001B[0m\u001B[1;33m\u001B[0m\u001B[1;33m\u001B[0m\u001B[1;33m\u001B[0m\u001B[0m\n\u001B[0;32m   1281\u001B[0m   \u001B[1;31m# Nodes that cannot yet be processed (if the inbound node\u001B[0m\u001B[1;33m\u001B[0m\u001B[1;33m\u001B[0m\u001B[1;33m\u001B[0m\u001B[0m\n",
      "\u001B[1;32m~\\AppData\\Roaming\\Python\\Python38\\site-packages\\tensorflow\\python\\keras\\engine\\functional.py\u001B[0m in \u001B[0;36mprocess_layer\u001B[1;34m(layer_data)\u001B[0m\n\u001B[0;32m   1259\u001B[0m       \u001B[1;32mfrom\u001B[0m \u001B[0mtensorflow\u001B[0m\u001B[1;33m.\u001B[0m\u001B[0mpython\u001B[0m\u001B[1;33m.\u001B[0m\u001B[0mkeras\u001B[0m\u001B[1;33m.\u001B[0m\u001B[0mlayers\u001B[0m \u001B[1;32mimport\u001B[0m \u001B[0mdeserialize\u001B[0m \u001B[1;32mas\u001B[0m \u001B[0mdeserialize_layer\u001B[0m  \u001B[1;31m# pylint: disable=g-import-not-at-top\u001B[0m\u001B[1;33m\u001B[0m\u001B[1;33m\u001B[0m\u001B[0m\n\u001B[0;32m   1260\u001B[0m \u001B[1;33m\u001B[0m\u001B[0m\n\u001B[1;32m-> 1261\u001B[1;33m       \u001B[0mlayer\u001B[0m \u001B[1;33m=\u001B[0m \u001B[0mdeserialize_layer\u001B[0m\u001B[1;33m(\u001B[0m\u001B[0mlayer_data\u001B[0m\u001B[1;33m,\u001B[0m \u001B[0mcustom_objects\u001B[0m\u001B[1;33m=\u001B[0m\u001B[0mcustom_objects\u001B[0m\u001B[1;33m)\u001B[0m\u001B[1;33m\u001B[0m\u001B[1;33m\u001B[0m\u001B[0m\n\u001B[0m\u001B[0;32m   1262\u001B[0m       \u001B[0mcreated_layers\u001B[0m\u001B[1;33m[\u001B[0m\u001B[0mlayer_name\u001B[0m\u001B[1;33m]\u001B[0m \u001B[1;33m=\u001B[0m \u001B[0mlayer\u001B[0m\u001B[1;33m\u001B[0m\u001B[1;33m\u001B[0m\u001B[0m\n\u001B[0;32m   1263\u001B[0m \u001B[1;33m\u001B[0m\u001B[0m\n",
      "\u001B[1;32m~\\AppData\\Roaming\\Python\\Python38\\site-packages\\tensorflow\\python\\keras\\layers\\serialization.py\u001B[0m in \u001B[0;36mdeserialize\u001B[1;34m(config, custom_objects)\u001B[0m\n\u001B[0;32m    157\u001B[0m   \"\"\"\n\u001B[0;32m    158\u001B[0m   \u001B[0mpopulate_deserializable_objects\u001B[0m\u001B[1;33m(\u001B[0m\u001B[1;33m)\u001B[0m\u001B[1;33m\u001B[0m\u001B[1;33m\u001B[0m\u001B[0m\n\u001B[1;32m--> 159\u001B[1;33m   return generic_utils.deserialize_keras_object(\n\u001B[0m\u001B[0;32m    160\u001B[0m       \u001B[0mconfig\u001B[0m\u001B[1;33m,\u001B[0m\u001B[1;33m\u001B[0m\u001B[1;33m\u001B[0m\u001B[0m\n\u001B[0;32m    161\u001B[0m       \u001B[0mmodule_objects\u001B[0m\u001B[1;33m=\u001B[0m\u001B[0mLOCAL\u001B[0m\u001B[1;33m.\u001B[0m\u001B[0mALL_OBJECTS\u001B[0m\u001B[1;33m,\u001B[0m\u001B[1;33m\u001B[0m\u001B[1;33m\u001B[0m\u001B[0m\n",
      "\u001B[1;32m~\\AppData\\Roaming\\Python\\Python38\\site-packages\\tensorflow\\python\\keras\\utils\\generic_utils.py\u001B[0m in \u001B[0;36mdeserialize_keras_object\u001B[1;34m(identifier, module_objects, custom_objects, printable_module_name)\u001B[0m\n\u001B[0;32m    673\u001B[0m       \u001B[1;32melse\u001B[0m\u001B[1;33m:\u001B[0m\u001B[1;33m\u001B[0m\u001B[1;33m\u001B[0m\u001B[0m\n\u001B[0;32m    674\u001B[0m         \u001B[1;32mwith\u001B[0m \u001B[0mCustomObjectScope\u001B[0m\u001B[1;33m(\u001B[0m\u001B[0mcustom_objects\u001B[0m\u001B[1;33m)\u001B[0m\u001B[1;33m:\u001B[0m\u001B[1;33m\u001B[0m\u001B[1;33m\u001B[0m\u001B[0m\n\u001B[1;32m--> 675\u001B[1;33m           \u001B[0mdeserialized_obj\u001B[0m \u001B[1;33m=\u001B[0m \u001B[0mcls\u001B[0m\u001B[1;33m.\u001B[0m\u001B[0mfrom_config\u001B[0m\u001B[1;33m(\u001B[0m\u001B[0mcls_config\u001B[0m\u001B[1;33m)\u001B[0m\u001B[1;33m\u001B[0m\u001B[1;33m\u001B[0m\u001B[0m\n\u001B[0m\u001B[0;32m    676\u001B[0m     \u001B[1;32melse\u001B[0m\u001B[1;33m:\u001B[0m\u001B[1;33m\u001B[0m\u001B[1;33m\u001B[0m\u001B[0m\n\u001B[0;32m    677\u001B[0m       \u001B[1;31m# Then `cls` may be a function returning a class.\u001B[0m\u001B[1;33m\u001B[0m\u001B[1;33m\u001B[0m\u001B[1;33m\u001B[0m\u001B[0m\n",
      "\u001B[1;32m~\\AppData\\Roaming\\Python\\Python38\\site-packages\\tensorflow\\python\\keras\\engine\\base_layer.py\u001B[0m in \u001B[0;36mfrom_config\u001B[1;34m(cls, config)\u001B[0m\n\u001B[0;32m    740\u001B[0m     \u001B[0mprint\u001B[0m\u001B[1;33m(\u001B[0m\u001B[0mcls\u001B[0m\u001B[1;33m)\u001B[0m\u001B[1;33m\u001B[0m\u001B[1;33m\u001B[0m\u001B[0m\n\u001B[0;32m    741\u001B[0m     \u001B[0mprint\u001B[0m\u001B[1;33m(\u001B[0m\u001B[0mconfig\u001B[0m\u001B[1;33m)\u001B[0m\u001B[1;33m\u001B[0m\u001B[1;33m\u001B[0m\u001B[0m\n\u001B[1;32m--> 742\u001B[1;33m     \u001B[1;32mreturn\u001B[0m \u001B[0mcls\u001B[0m\u001B[1;33m(\u001B[0m\u001B[1;33m**\u001B[0m\u001B[0mconfig\u001B[0m\u001B[1;33m)\u001B[0m\u001B[1;33m\u001B[0m\u001B[1;33m\u001B[0m\u001B[0m\n\u001B[0m\u001B[0;32m    743\u001B[0m \u001B[1;33m\u001B[0m\u001B[0m\n\u001B[0;32m    744\u001B[0m   \u001B[1;32mdef\u001B[0m \u001B[0mcompute_output_shape\u001B[0m\u001B[1;33m(\u001B[0m\u001B[0mself\u001B[0m\u001B[1;33m,\u001B[0m \u001B[0minput_shape\u001B[0m\u001B[1;33m)\u001B[0m\u001B[1;33m:\u001B[0m\u001B[1;33m\u001B[0m\u001B[1;33m\u001B[0m\u001B[0m\n",
      "\u001B[1;31mTypeError\u001B[0m: __init__() missing 1 required positional argument: 'num_stocks'"
     ]
    }
   ],
   "source": [
    "from tensorflow.python.keras.models import load_model\n",
    "model = load_model('dtml.h5', custom_objects={'FeatureTransformation':FeatureTransformation,\n",
    "                                              'AttentionLSTM': AttentionLSTM,\n",
    "                                              'ContextNormalize': ContextNormalize,\n",
    "                                              'MultilevelAggregator': MultiLevelAggregator,\n",
    "                                              'NonlinearPrediction': NonlinearPrediction})"
   ],
   "metadata": {
    "collapsed": false,
    "pycharm": {
     "name": "#%%\n"
    }
   }
  },
  {
   "cell_type": "code",
   "execution_count": 26,
   "outputs": [
    {
     "data": {
      "text/plain": "Bana(1, 2, 3)"
     },
     "execution_count": 26,
     "metadata": {},
     "output_type": "execute_result"
    }
   ],
   "source": [
    "class App:\n",
    "    def __init__(self, a, b):\n",
    "        self.a = a\n",
    "        self.b = b\n",
    "\n",
    "    def __repr__(self):\n",
    "        return f'App{self.a, self.b}'\n",
    "\n",
    "class Bana(App):\n",
    "    def __init__(self, c, **kwargs):\n",
    "        super(Bana, self).__init__(**kwargs)\n",
    "        self.c = c\n",
    "    def __repr__(self):\n",
    "        return f'Bana{self.a, self.b, self.c}'\n",
    "\n",
    "a = App(1,2)\n",
    "conf = {'a':1, 'b':2, 'c':3}\n",
    "Bana(**conf)"
   ],
   "metadata": {
    "collapsed": false,
    "pycharm": {
     "name": "#%%\n"
    }
   }
  },
  {
   "cell_type": "code",
   "execution_count": 30,
   "outputs": [
    {
     "ename": "TypeError",
     "evalue": "('Keyword argument not understood:', 'num_stocks:')",
     "output_type": "error",
     "traceback": [
      "\u001B[1;31m---------------------------------------------------------------------------\u001B[0m",
      "\u001B[1;31mTypeError\u001B[0m                                 Traceback (most recent call last)",
      "\u001B[1;32m<ipython-input-30-c10d5c48cfd0>\u001B[0m in \u001B[0;36m<module>\u001B[1;34m\u001B[0m\n\u001B[0;32m      1\u001B[0m \u001B[0mconf\u001B[0m \u001B[1;33m=\u001B[0m \u001B[1;33m{\u001B[0m\u001B[1;34m'name'\u001B[0m\u001B[1;33m:\u001B[0m \u001B[1;34m'attention_lstm'\u001B[0m\u001B[1;33m,\u001B[0m \u001B[1;34m'trainable'\u001B[0m\u001B[1;33m:\u001B[0m \u001B[1;32mTrue\u001B[0m\u001B[1;33m,\u001B[0m \u001B[1;34m'dtype'\u001B[0m\u001B[1;33m:\u001B[0m \u001B[1;34m'float32'\u001B[0m\u001B[1;33m,\u001B[0m \u001B[1;34m'units'\u001B[0m\u001B[1;33m:\u001B[0m \u001B[1;36m64\u001B[0m\u001B[1;33m,\u001B[0m \u001B[1;34m'num_stocks:'\u001B[0m\u001B[1;33m:\u001B[0m \u001B[1;36m31\u001B[0m\u001B[1;33m}\u001B[0m\u001B[1;33m\u001B[0m\u001B[1;33m\u001B[0m\u001B[0m\n\u001B[1;32m----> 2\u001B[1;33m \u001B[0mAttentionLSTM\u001B[0m\u001B[1;33m(\u001B[0m\u001B[0mnum_stocks\u001B[0m\u001B[1;33m=\u001B[0m\u001B[1;36m10\u001B[0m\u001B[1;33m,\u001B[0m \u001B[1;33m**\u001B[0m\u001B[0mconf\u001B[0m\u001B[1;33m)\u001B[0m\u001B[1;33m\u001B[0m\u001B[1;33m\u001B[0m\u001B[0m\n\u001B[0m",
      "\u001B[1;32m<ipython-input-27-72fc8be97525>\u001B[0m in \u001B[0;36m__init__\u001B[1;34m(self, units, num_stocks, **kwargs)\u001B[0m\n\u001B[0;32m     26\u001B[0m \u001B[1;32mclass\u001B[0m \u001B[0mAttentionLSTM\u001B[0m\u001B[1;33m(\u001B[0m\u001B[0mLayer\u001B[0m\u001B[1;33m)\u001B[0m\u001B[1;33m:\u001B[0m\u001B[1;33m\u001B[0m\u001B[1;33m\u001B[0m\u001B[0m\n\u001B[0;32m     27\u001B[0m     \u001B[1;32mdef\u001B[0m \u001B[0m__init__\u001B[0m\u001B[1;33m(\u001B[0m\u001B[0mself\u001B[0m\u001B[1;33m,\u001B[0m \u001B[0munits\u001B[0m\u001B[1;33m,\u001B[0m \u001B[0mnum_stocks\u001B[0m\u001B[1;33m,\u001B[0m \u001B[1;33m**\u001B[0m\u001B[0mkwargs\u001B[0m\u001B[1;33m)\u001B[0m\u001B[1;33m:\u001B[0m\u001B[1;33m\u001B[0m\u001B[1;33m\u001B[0m\u001B[0m\n\u001B[1;32m---> 28\u001B[1;33m         \u001B[0msuper\u001B[0m\u001B[1;33m(\u001B[0m\u001B[0mAttentionLSTM\u001B[0m\u001B[1;33m,\u001B[0m \u001B[0mself\u001B[0m\u001B[1;33m)\u001B[0m\u001B[1;33m.\u001B[0m\u001B[0m__init__\u001B[0m\u001B[1;33m(\u001B[0m\u001B[1;33m**\u001B[0m\u001B[0mkwargs\u001B[0m\u001B[1;33m)\u001B[0m\u001B[1;33m\u001B[0m\u001B[1;33m\u001B[0m\u001B[0m\n\u001B[0m\u001B[0;32m     29\u001B[0m         \u001B[0mself\u001B[0m\u001B[1;33m.\u001B[0m\u001B[0munits\u001B[0m \u001B[1;33m=\u001B[0m \u001B[0munits\u001B[0m\u001B[1;33m\u001B[0m\u001B[1;33m\u001B[0m\u001B[0m\n\u001B[0;32m     30\u001B[0m         \u001B[0mself\u001B[0m\u001B[1;33m.\u001B[0m\u001B[0mnum_stocks\u001B[0m \u001B[1;33m=\u001B[0m \u001B[0mnum_stocks\u001B[0m\u001B[1;33m\u001B[0m\u001B[1;33m\u001B[0m\u001B[0m\n",
      "\u001B[1;32m~\\AppData\\Roaming\\Python\\Python38\\site-packages\\tensorflow\\python\\training\\tracking\\base.py\u001B[0m in \u001B[0;36m_method_wrapper\u001B[1;34m(self, *args, **kwargs)\u001B[0m\n\u001B[0;32m    520\u001B[0m     \u001B[0mself\u001B[0m\u001B[1;33m.\u001B[0m\u001B[0m_self_setattr_tracking\u001B[0m \u001B[1;33m=\u001B[0m \u001B[1;32mFalse\u001B[0m  \u001B[1;31m# pylint: disable=protected-access\u001B[0m\u001B[1;33m\u001B[0m\u001B[1;33m\u001B[0m\u001B[0m\n\u001B[0;32m    521\u001B[0m     \u001B[1;32mtry\u001B[0m\u001B[1;33m:\u001B[0m\u001B[1;33m\u001B[0m\u001B[1;33m\u001B[0m\u001B[0m\n\u001B[1;32m--> 522\u001B[1;33m       \u001B[0mresult\u001B[0m \u001B[1;33m=\u001B[0m \u001B[0mmethod\u001B[0m\u001B[1;33m(\u001B[0m\u001B[0mself\u001B[0m\u001B[1;33m,\u001B[0m \u001B[1;33m*\u001B[0m\u001B[0margs\u001B[0m\u001B[1;33m,\u001B[0m \u001B[1;33m**\u001B[0m\u001B[0mkwargs\u001B[0m\u001B[1;33m)\u001B[0m\u001B[1;33m\u001B[0m\u001B[1;33m\u001B[0m\u001B[0m\n\u001B[0m\u001B[0;32m    523\u001B[0m     \u001B[1;32mfinally\u001B[0m\u001B[1;33m:\u001B[0m\u001B[1;33m\u001B[0m\u001B[1;33m\u001B[0m\u001B[0m\n\u001B[0;32m    524\u001B[0m       \u001B[0mself\u001B[0m\u001B[1;33m.\u001B[0m\u001B[0m_self_setattr_tracking\u001B[0m \u001B[1;33m=\u001B[0m \u001B[0mprevious_value\u001B[0m  \u001B[1;31m# pylint: disable=protected-access\u001B[0m\u001B[1;33m\u001B[0m\u001B[1;33m\u001B[0m\u001B[0m\n",
      "\u001B[1;32m~\\AppData\\Roaming\\Python\\Python38\\site-packages\\tensorflow\\python\\keras\\engine\\base_layer.py\u001B[0m in \u001B[0;36m__init__\u001B[1;34m(self, trainable, name, dtype, dynamic, **kwargs)\u001B[0m\n\u001B[0;32m    345\u001B[0m     }\n\u001B[0;32m    346\u001B[0m     \u001B[1;31m# Validate optional keyword arguments.\u001B[0m\u001B[1;33m\u001B[0m\u001B[1;33m\u001B[0m\u001B[1;33m\u001B[0m\u001B[0m\n\u001B[1;32m--> 347\u001B[1;33m     \u001B[0mgeneric_utils\u001B[0m\u001B[1;33m.\u001B[0m\u001B[0mvalidate_kwargs\u001B[0m\u001B[1;33m(\u001B[0m\u001B[0mkwargs\u001B[0m\u001B[1;33m,\u001B[0m \u001B[0mallowed_kwargs\u001B[0m\u001B[1;33m)\u001B[0m\u001B[1;33m\u001B[0m\u001B[1;33m\u001B[0m\u001B[0m\n\u001B[0m\u001B[0;32m    348\u001B[0m \u001B[1;33m\u001B[0m\u001B[0m\n\u001B[0;32m    349\u001B[0m     \u001B[1;31m# Mutable properties\u001B[0m\u001B[1;33m\u001B[0m\u001B[1;33m\u001B[0m\u001B[1;33m\u001B[0m\u001B[0m\n",
      "\u001B[1;32m~\\AppData\\Roaming\\Python\\Python38\\site-packages\\tensorflow\\python\\keras\\utils\\generic_utils.py\u001B[0m in \u001B[0;36mvalidate_kwargs\u001B[1;34m(kwargs, allowed_kwargs, error_message)\u001B[0m\n\u001B[0;32m   1135\u001B[0m   \u001B[1;32mfor\u001B[0m \u001B[0mkwarg\u001B[0m \u001B[1;32min\u001B[0m \u001B[0mkwargs\u001B[0m\u001B[1;33m:\u001B[0m\u001B[1;33m\u001B[0m\u001B[1;33m\u001B[0m\u001B[0m\n\u001B[0;32m   1136\u001B[0m     \u001B[1;32mif\u001B[0m \u001B[0mkwarg\u001B[0m \u001B[1;32mnot\u001B[0m \u001B[1;32min\u001B[0m \u001B[0mallowed_kwargs\u001B[0m\u001B[1;33m:\u001B[0m\u001B[1;33m\u001B[0m\u001B[1;33m\u001B[0m\u001B[0m\n\u001B[1;32m-> 1137\u001B[1;33m       \u001B[1;32mraise\u001B[0m \u001B[0mTypeError\u001B[0m\u001B[1;33m(\u001B[0m\u001B[0merror_message\u001B[0m\u001B[1;33m,\u001B[0m \u001B[0mkwarg\u001B[0m\u001B[1;33m)\u001B[0m\u001B[1;33m\u001B[0m\u001B[1;33m\u001B[0m\u001B[0m\n\u001B[0m\u001B[0;32m   1138\u001B[0m \u001B[1;33m\u001B[0m\u001B[0m\n\u001B[0;32m   1139\u001B[0m \u001B[1;33m\u001B[0m\u001B[0m\n",
      "\u001B[1;31mTypeError\u001B[0m: ('Keyword argument not understood:', 'num_stocks:')"
     ]
    }
   ],
   "source": [
    "conf = {'name': 'attention_lstm', 'trainable': True, 'dtype': 'float32', 'units': 64, 'num_stocks': 31}\n",
    "AttentionLSTM(num_stocks=10, **conf)"
   ],
   "metadata": {
    "collapsed": false,
    "pycharm": {
     "name": "#%%\n"
    }
   }
  },
  {
   "cell_type": "code",
   "execution_count": null,
   "outputs": [],
   "source": [],
   "metadata": {
    "collapsed": false,
    "pycharm": {
     "name": "#%%\n"
    }
   }
  }
 ],
 "metadata": {
  "kernelspec": {
   "display_name": "Python 3",
   "language": "python",
   "name": "python3"
  },
  "language_info": {
   "codemirror_mode": {
    "name": "ipython",
    "version": 2
   },
   "file_extension": ".py",
   "mimetype": "text/x-python",
   "name": "python",
   "nbconvert_exporter": "python",
   "pygments_lexer": "ipython2",
   "version": "2.7.6"
  }
 },
 "nbformat": 4,
 "nbformat_minor": 0
}