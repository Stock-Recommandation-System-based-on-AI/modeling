{
 "cells": [
  {
   "cell_type": "code",
   "execution_count": 1,
   "outputs": [],
   "source": [
    "import tensorflow as tf\n",
    "import numpy as np\n",
    "import torch\n",
    "import torch.nn as nn\n",
    "import torch.nn.functional as F"
   ],
   "metadata": {
    "collapsed": false,
    "pycharm": {
     "name": "#%%\n"
    }
   }
  },
  {
   "cell_type": "code",
   "execution_count": 2,
   "outputs": [],
   "source": [
    "options = {\n",
    "    'seq_len': 128,\n",
    "    'pred_len': 7,\n",
    "    'using_cols': ['open', 'high', 'low', 'close', 'vol'],\n",
    "}\n",
    "\n",
    "d_k = int(256*5/8)\n",
    "d_v = int(256*5/8)\n",
    "batch_size = 24\n",
    "n_heads = 12\n",
    "ff_dim = int(256*5/8)\n",
    "seq_len = options['seq_len']\n",
    "pred_len = options['pred_len']"
   ],
   "metadata": {
    "collapsed": false,
    "pycharm": {
     "name": "#%%\n"
    }
   }
  },
  {
   "cell_type": "code",
   "execution_count": 3,
   "outputs": [
    {
     "name": "stdout",
     "output_type": "stream",
     "text": [
      "cuda\n"
     ]
    }
   ],
   "source": [
    "device = torch.device('cuda' if torch.cuda.is_available() else 'cpu')\n",
    "print(device)"
   ],
   "metadata": {
    "collapsed": false,
    "pycharm": {
     "name": "#%%\n"
    }
   }
  },
  {
   "cell_type": "markdown",
   "metadata": {
    "collapsed": true,
    "pycharm": {
     "name": "#%% md\n"
    }
   },
   "source": [
    "## Time Embedding"
   ]
  },
  {
   "cell_type": "code",
   "execution_count": 4,
   "outputs": [],
   "source": [
    "time_cols_num = 4\n",
    "class Time2Vector(nn.Module):\n",
    "    def __init__(self, seq_len, device):\n",
    "        super(Time2Vector, self).__init__()\n",
    "        self.seq_len = seq_len\n",
    "\n",
    "        self.weights_linear = torch.rand(self.seq_len, requires_grad=True).to(device)\n",
    "        self.biad_linear = torch.rand(self.seq_len, requires_grad=True).to(device)\n",
    "\n",
    "        self.weights_periodic = torch.rand(self.seq_len, requires_grad=True).to(device)\n",
    "        self.bias_periodic = torch.rand(self.seq_len, requires_grad=True).to(device)\n",
    "\n",
    "    def forward(self, inputs):\n",
    "        x = torch.mean(inputs[:,:,:time_cols_num], dim=-1)\n",
    "        time_linear = self.weights_linear * x + self.biad_linear\n",
    "        time_linear = torch.unsqueeze(time_linear, dim=-1)\n",
    "\n",
    "        time_periodic = torch.sin(x * self.weights_periodic + self.bias_periodic)\n",
    "        time_periodic = torch.unsqueeze(time_periodic, dim=-1)\n",
    "        return torch.cat([time_linear, time_periodic], dim=-1)"
   ],
   "metadata": {
    "collapsed": false,
    "pycharm": {
     "name": "#%%\n"
    }
   }
  },
  {
   "cell_type": "markdown",
   "source": [
    "## TransformerEncoder + Attention"
   ],
   "metadata": {
    "collapsed": false
   }
  },
  {
   "cell_type": "code",
   "execution_count": 5,
   "outputs": [],
   "source": [
    "class StockModel(nn.Module):\n",
    "    def __init__(self, time_embedding, transformer_encoder):\n",
    "        super(StockModel, self).__init__()\n",
    "        self.time_embedding = time_embedding\n",
    "        self.transformer_encoder = transformer_encoder\n",
    "        self.gap1d = nn.AvgPool1d(kernel_size=7*n_heads)\n",
    "        self.dropout1 = nn.Dropout(0.1)\n",
    "        self.dropout2 = nn.Dropout(0.1)\n",
    "        self.linear_mid = nn.Linear(seq_len, 64)\n",
    "        self.linear_last = nn.Linear(64, pred_len)\n",
    "\n",
    "    def forward(self, inputs):\n",
    "        x = self.time_embedding(inputs)\n",
    "        x = torch.cat([inputs, x], dim=-1)\n",
    "\n",
    "        x = torch.cat([x for _ in range(n_heads)], dim=-1)\n",
    "        x = self.transformer_encoder(x)\n",
    "\n",
    "        x = self.gap1d(x)\n",
    "        x = x.flatten(1)\n",
    "        x = self.dropout1(x)\n",
    "        x = F.relu(self.linear_mid(x))\n",
    "        x = self.linear_last(x)\n",
    "\n",
    "        return x"
   ],
   "metadata": {
    "collapsed": false,
    "pycharm": {
     "name": "#%%\n"
    }
   }
  },
  {
   "cell_type": "markdown",
   "source": [
    "## Construct Model"
   ],
   "metadata": {
    "collapsed": false,
    "pycharm": {
     "name": "#%% md\n"
    }
   }
  },
  {
   "cell_type": "code",
   "execution_count": 16,
   "outputs": [],
   "source": [
    "time_embedding = Time2Vector(seq_len, device)\n",
    "transformer_encoder = nn.TransformerEncoder(\n",
    "    encoder_layer=nn.TransformerEncoderLayer(d_model=7*n_heads, nhead=n_heads,\n",
    "                                             dim_feedforward=ff_dim,\n",
    "                                             dropout=0.1,\n",
    "                                             batch_first=True,\n",
    "                                             device=device),\n",
    "    num_layers=3,\n",
    ")\n",
    "\n",
    "stockmodel = StockModel(time_embedding, transformer_encoder).double().to(device)"
   ],
   "metadata": {
    "collapsed": false,
    "pycharm": {
     "name": "#%%\n"
    }
   }
  },
  {
   "cell_type": "markdown",
   "source": [
    "## Training"
   ],
   "metadata": {
    "collapsed": false,
    "pycharm": {
     "name": "#%% md\n"
    }
   }
  },
  {
   "cell_type": "code",
   "execution_count": 22,
   "outputs": [],
   "source": [
    "def train(model, epoch, optimizer, criterion, train_dataloader, scheduler=None):\n",
    "    print(f'[Train epoch: {epoch}]')\n",
    "    if scheduler: scheduler.step()\n",
    "    model.train()\n",
    "    train_loss = 0\n",
    "    train_mape = 0\n",
    "    total = 0\n",
    "    for batch_idx, (inputs, targets) in enumerate(train_dataloader):\n",
    "        inputs, targets = inputs.to(device), targets.to(device)\n",
    "        optimizer.zero_grad()\n",
    "\n",
    "        outputs = model(inputs)\n",
    "        loss = criterion(outputs, targets)\n",
    "        loss.backward()\n",
    "\n",
    "        optimizer.step()\n",
    "\n",
    "        train_loss += loss.item()\n",
    "        train_mape += torch.sum((targets - outputs).abs()/targets.abs())/targets.size(-1)\n",
    "        total += targets.size(0)\n",
    "\n",
    "    print(f'Train loss: {train_loss/total}, MAPE loss: {train_mape/total}')\n",
    "    return train_loss/total, train_mape/total\n",
    "\n",
    "def validate(model, epoch, criterion, valid_dataloader):\n",
    "    print(f'Validation epoch: {epoch}')\n",
    "    model.train()\n",
    "    val_loss = 0\n",
    "    val_mape = 0\n",
    "    total = 0\n",
    "    for batch_idx, (inputs, targets) in enumerate(valid_dataloader):\n",
    "        inputs, targets = inputs.to(device), targets.to(device)\n",
    "\n",
    "        outputs = model(inputs)\n",
    "        val_loss += criterion(outputs, targets).item()\n",
    "        val_mape += torch.sum((targets - outputs).abs()/targets.abs())/targets.size(-1)\n",
    "        total += targets.size(0)\n",
    "\n",
    "    print(f'Validation loss: {val_loss/total}, MAPE loss: {val_mape/total}')\n",
    "    return val_loss/total, val_mape/total\n",
    "\n",
    "def test(model, epoch, criterion, test_dataloader):\n",
    "    print(f'Test epoch: {epoch}')\n",
    "    model.eval()\n",
    "    test_loss = 0\n",
    "    test_mape = 0\n",
    "    total = 0\n",
    "    for batch_idx, (inputs, targets) in enumerate(test_dataloader):\n",
    "        inputs, targets = inputs.to(device), targets.to(device)\n",
    "        outputs = model(inputs)\n",
    "        test_loss += criterion(outputs, targets).item()\n",
    "        test_mape += torch.sum((targets - outputs).abs()/targets.abs())/targets.size(-1)\n",
    "        total += targets.size(0)\n",
    "\n",
    "    print(f'Test loss: {test_loss/total}, MAPE loss: {test_mape/total}')\n",
    "    return test_loss/total, test_mape/total"
   ],
   "metadata": {
    "collapsed": false,
    "pycharm": {
     "name": "#%%\n"
    }
   }
  },
  {
   "cell_type": "code",
   "execution_count": 23,
   "outputs": [],
   "source": [
    "import time\n",
    "import os\n",
    "import torch.optim as op\n",
    "\n",
    "criterion = nn.MSELoss()\n",
    "optimizer = op.Adam(stockmodel.parameters(), lr=0.005, weight_decay=2e-5)\n",
    "\n",
    "def fit(model, epoch, criterion, optimizer, train_dataloader, valid_dataloader, scheduler=None, file_name=None):\n",
    "    train_result = []\n",
    "    valid_result = []\n",
    "\n",
    "    start_time = time.time()\n",
    "\n",
    "    for i in range(epoch):\n",
    "        train_loss, train_mape = train(model, i, optimizer, criterion, train_dataloader, scheduler)\n",
    "        valid_loss, valid_mape = validate(model, i+1, criterion, valid_dataloader)\n",
    "        train_result.append((train_loss, train_mape))\n",
    "        valid_result.append((valid_loss, valid_mape))\n",
    "\n",
    "        if file_name and not i%10:\n",
    "            state = {'model': model.state_dict()}\n",
    "            if not os.path.isdir(f'checkpoint_{i}'):\n",
    "                os.mkdir(f'checkpoint_{i}')\n",
    "            torch.save(state, f'./checkpoint_{i}/'+file_name)\n",
    "            print(f'Model Saved! (time elapsed: {time.time() - start_time})')\n",
    "\n",
    "    return train_result, valid_result"
   ],
   "metadata": {
    "collapsed": false,
    "pycharm": {
     "name": "#%%\n"
    }
   }
  },
  {
   "cell_type": "code",
   "execution_count": 24,
   "outputs": [],
   "source": [
    "from bluesunb.preprocessing.stock_preprocessing import load_data_with_preprocessing\n",
    "from torch.utils.data import DataLoader\n",
    "file_path = os.path.abspath('../data/samsung-stock-data-2000-2021.csv')\n",
    "(X_train, y_train), (X_valid, y_valid), (X_test, y_test), df = \\\n",
    "    load_data_with_preprocessing(file_path, options)\n"
   ],
   "metadata": {
    "collapsed": false,
    "pycharm": {
     "name": "#%%\n"
    }
   }
  },
  {
   "cell_type": "code",
   "execution_count": 25,
   "outputs": [],
   "source": [
    "train_dataloader = DataLoader(list(zip(X_train, y_train)), batch_size=batch_size, num_workers=3)\n",
    "valid_dataloader = DataLoader(list(zip(X_valid, y_valid)), batch_size=batch_size, num_workers=3)\n",
    "test_dataloader = DataLoader(list(zip(X_test, y_test)), batch_size=batch_size, num_workers=3)"
   ],
   "metadata": {
    "collapsed": false,
    "pycharm": {
     "name": "#%%\n"
    }
   }
  },
  {
   "cell_type": "code",
   "execution_count": 26,
   "outputs": [
    {
     "name": "stdout",
     "output_type": "stream",
     "text": [
      "[Train epoch: 0]\n"
     ]
    },
    {
     "ename": "KeyboardInterrupt",
     "evalue": "",
     "output_type": "error",
     "traceback": [
      "\u001B[1;31m---------------------------------------------------------------------------\u001B[0m",
      "\u001B[1;31mKeyboardInterrupt\u001B[0m                         Traceback (most recent call last)",
      "\u001B[1;32m<ipython-input-26-e1a31296a31f>\u001B[0m in \u001B[0;36m<module>\u001B[1;34m\u001B[0m\n\u001B[1;32m----> 1\u001B[1;33m \u001B[0mtrain_result\u001B[0m\u001B[1;33m,\u001B[0m \u001B[0mvalid_result\u001B[0m \u001B[1;33m=\u001B[0m \u001B[0mfit\u001B[0m\u001B[1;33m(\u001B[0m\u001B[0mstockmodel\u001B[0m\u001B[1;33m,\u001B[0m \u001B[1;36m40\u001B[0m\u001B[1;33m,\u001B[0m \u001B[0mcriterion\u001B[0m\u001B[1;33m,\u001B[0m \u001B[0moptimizer\u001B[0m\u001B[1;33m,\u001B[0m \u001B[0mtrain_dataloader\u001B[0m\u001B[1;33m,\u001B[0m \u001B[0mvalid_dataloader\u001B[0m\u001B[1;33m,\u001B[0m \u001B[0mfile_name\u001B[0m\u001B[1;33m=\u001B[0m\u001B[1;34m'tmp_model.pt'\u001B[0m\u001B[1;33m)\u001B[0m\u001B[1;33m\u001B[0m\u001B[1;33m\u001B[0m\u001B[0m\n\u001B[0m",
      "\u001B[1;32m<ipython-input-23-197ad73bc69a>\u001B[0m in \u001B[0;36mfit\u001B[1;34m(model, epoch, criterion, optimizer, train_dataloader, valid_dataloader, scheduler, file_name)\u001B[0m\n\u001B[0;32m     13\u001B[0m \u001B[1;33m\u001B[0m\u001B[0m\n\u001B[0;32m     14\u001B[0m     \u001B[1;32mfor\u001B[0m \u001B[0mi\u001B[0m \u001B[1;32min\u001B[0m \u001B[0mrange\u001B[0m\u001B[1;33m(\u001B[0m\u001B[0mepoch\u001B[0m\u001B[1;33m)\u001B[0m\u001B[1;33m:\u001B[0m\u001B[1;33m\u001B[0m\u001B[1;33m\u001B[0m\u001B[0m\n\u001B[1;32m---> 15\u001B[1;33m         \u001B[0mtrain_loss\u001B[0m\u001B[1;33m,\u001B[0m \u001B[0mtrain_mape\u001B[0m \u001B[1;33m=\u001B[0m \u001B[0mtrain\u001B[0m\u001B[1;33m(\u001B[0m\u001B[0mmodel\u001B[0m\u001B[1;33m,\u001B[0m \u001B[0mi\u001B[0m\u001B[1;33m,\u001B[0m \u001B[0moptimizer\u001B[0m\u001B[1;33m,\u001B[0m \u001B[0mcriterion\u001B[0m\u001B[1;33m,\u001B[0m \u001B[0mtrain_dataloader\u001B[0m\u001B[1;33m,\u001B[0m \u001B[0mscheduler\u001B[0m\u001B[1;33m)\u001B[0m\u001B[1;33m\u001B[0m\u001B[1;33m\u001B[0m\u001B[0m\n\u001B[0m\u001B[0;32m     16\u001B[0m         \u001B[0mvalid_loss\u001B[0m\u001B[1;33m,\u001B[0m \u001B[0mvalid_mape\u001B[0m \u001B[1;33m=\u001B[0m \u001B[0mvalidate\u001B[0m\u001B[1;33m(\u001B[0m\u001B[0mmodel\u001B[0m\u001B[1;33m,\u001B[0m \u001B[0mi\u001B[0m\u001B[1;33m+\u001B[0m\u001B[1;36m1\u001B[0m\u001B[1;33m,\u001B[0m \u001B[0mcriterion\u001B[0m\u001B[1;33m,\u001B[0m \u001B[0mvalid_dataloader\u001B[0m\u001B[1;33m)\u001B[0m\u001B[1;33m\u001B[0m\u001B[1;33m\u001B[0m\u001B[0m\n\u001B[0;32m     17\u001B[0m         \u001B[0mtrain_result\u001B[0m\u001B[1;33m.\u001B[0m\u001B[0mappend\u001B[0m\u001B[1;33m(\u001B[0m\u001B[1;33m(\u001B[0m\u001B[0mtrain_loss\u001B[0m\u001B[1;33m,\u001B[0m \u001B[0mtrain_mape\u001B[0m\u001B[1;33m)\u001B[0m\u001B[1;33m)\u001B[0m\u001B[1;33m\u001B[0m\u001B[1;33m\u001B[0m\u001B[0m\n",
      "\u001B[1;32m<ipython-input-22-2be396888204>\u001B[0m in \u001B[0;36mtrain\u001B[1;34m(model, epoch, optimizer, criterion, train_dataloader, scheduler)\u001B[0m\n\u001B[0;32m     12\u001B[0m         \u001B[0moutputs\u001B[0m \u001B[1;33m=\u001B[0m \u001B[0mmodel\u001B[0m\u001B[1;33m(\u001B[0m\u001B[0minputs\u001B[0m\u001B[1;33m)\u001B[0m\u001B[1;33m\u001B[0m\u001B[1;33m\u001B[0m\u001B[0m\n\u001B[0;32m     13\u001B[0m         \u001B[0mloss\u001B[0m \u001B[1;33m=\u001B[0m \u001B[0mcriterion\u001B[0m\u001B[1;33m(\u001B[0m\u001B[0moutputs\u001B[0m\u001B[1;33m,\u001B[0m \u001B[0mtargets\u001B[0m\u001B[1;33m)\u001B[0m\u001B[1;33m\u001B[0m\u001B[1;33m\u001B[0m\u001B[0m\n\u001B[1;32m---> 14\u001B[1;33m         \u001B[0mloss\u001B[0m\u001B[1;33m.\u001B[0m\u001B[0mbackward\u001B[0m\u001B[1;33m(\u001B[0m\u001B[1;33m)\u001B[0m\u001B[1;33m\u001B[0m\u001B[1;33m\u001B[0m\u001B[0m\n\u001B[0m\u001B[0;32m     15\u001B[0m \u001B[1;33m\u001B[0m\u001B[0m\n\u001B[0;32m     16\u001B[0m         \u001B[0moptimizer\u001B[0m\u001B[1;33m.\u001B[0m\u001B[0mstep\u001B[0m\u001B[1;33m(\u001B[0m\u001B[1;33m)\u001B[0m\u001B[1;33m\u001B[0m\u001B[1;33m\u001B[0m\u001B[0m\n",
      "\u001B[1;32m~\\anaconda3\\envs\\rl\\lib\\site-packages\\torch\\_tensor.py\u001B[0m in \u001B[0;36mbackward\u001B[1;34m(self, gradient, retain_graph, create_graph, inputs)\u001B[0m\n\u001B[0;32m    253\u001B[0m                 \u001B[0mcreate_graph\u001B[0m\u001B[1;33m=\u001B[0m\u001B[0mcreate_graph\u001B[0m\u001B[1;33m,\u001B[0m\u001B[1;33m\u001B[0m\u001B[1;33m\u001B[0m\u001B[0m\n\u001B[0;32m    254\u001B[0m                 inputs=inputs)\n\u001B[1;32m--> 255\u001B[1;33m         \u001B[0mtorch\u001B[0m\u001B[1;33m.\u001B[0m\u001B[0mautograd\u001B[0m\u001B[1;33m.\u001B[0m\u001B[0mbackward\u001B[0m\u001B[1;33m(\u001B[0m\u001B[0mself\u001B[0m\u001B[1;33m,\u001B[0m \u001B[0mgradient\u001B[0m\u001B[1;33m,\u001B[0m \u001B[0mretain_graph\u001B[0m\u001B[1;33m,\u001B[0m \u001B[0mcreate_graph\u001B[0m\u001B[1;33m,\u001B[0m \u001B[0minputs\u001B[0m\u001B[1;33m=\u001B[0m\u001B[0minputs\u001B[0m\u001B[1;33m)\u001B[0m\u001B[1;33m\u001B[0m\u001B[1;33m\u001B[0m\u001B[0m\n\u001B[0m\u001B[0;32m    256\u001B[0m \u001B[1;33m\u001B[0m\u001B[0m\n\u001B[0;32m    257\u001B[0m     \u001B[1;32mdef\u001B[0m \u001B[0mregister_hook\u001B[0m\u001B[1;33m(\u001B[0m\u001B[0mself\u001B[0m\u001B[1;33m,\u001B[0m \u001B[0mhook\u001B[0m\u001B[1;33m)\u001B[0m\u001B[1;33m:\u001B[0m\u001B[1;33m\u001B[0m\u001B[1;33m\u001B[0m\u001B[0m\n",
      "\u001B[1;32m~\\anaconda3\\envs\\rl\\lib\\site-packages\\torch\\autograd\\__init__.py\u001B[0m in \u001B[0;36mbackward\u001B[1;34m(tensors, grad_tensors, retain_graph, create_graph, grad_variables, inputs)\u001B[0m\n\u001B[0;32m    145\u001B[0m         \u001B[0mretain_graph\u001B[0m \u001B[1;33m=\u001B[0m \u001B[0mcreate_graph\u001B[0m\u001B[1;33m\u001B[0m\u001B[1;33m\u001B[0m\u001B[0m\n\u001B[0;32m    146\u001B[0m \u001B[1;33m\u001B[0m\u001B[0m\n\u001B[1;32m--> 147\u001B[1;33m     Variable._execution_engine.run_backward(\n\u001B[0m\u001B[0;32m    148\u001B[0m         \u001B[0mtensors\u001B[0m\u001B[1;33m,\u001B[0m \u001B[0mgrad_tensors_\u001B[0m\u001B[1;33m,\u001B[0m \u001B[0mretain_graph\u001B[0m\u001B[1;33m,\u001B[0m \u001B[0mcreate_graph\u001B[0m\u001B[1;33m,\u001B[0m \u001B[0minputs\u001B[0m\u001B[1;33m,\u001B[0m\u001B[1;33m\u001B[0m\u001B[1;33m\u001B[0m\u001B[0m\n\u001B[0;32m    149\u001B[0m         allow_unreachable=True, accumulate_grad=True)  # allow_unreachable flag\n",
      "\u001B[1;31mKeyboardInterrupt\u001B[0m: "
     ]
    }
   ],
   "source": [
    "train_result, valid_result = fit(stockmodel, 40, criterion, optimizer, train_dataloader, valid_dataloader, file_name='tmp_model.pt')"
   ],
   "metadata": {
    "collapsed": false,
    "pycharm": {
     "name": "#%%\n"
    }
   }
  },
  {
   "cell_type": "code",
   "execution_count": null,
   "outputs": [],
   "source": [],
   "metadata": {
    "collapsed": false,
    "pycharm": {
     "name": "#%%\n"
    }
   }
  }
 ],
 "metadata": {
  "kernelspec": {
   "display_name": "Python 3",
   "language": "python",
   "name": "python3"
  },
  "language_info": {
   "codemirror_mode": {
    "name": "ipython",
    "version": 2
   },
   "file_extension": ".py",
   "mimetype": "text/x-python",
   "name": "python",
   "nbconvert_exporter": "python",
   "pygments_lexer": "ipython2",
   "version": "2.7.6"
  }
 },
 "nbformat": 4,
 "nbformat_minor": 0
}