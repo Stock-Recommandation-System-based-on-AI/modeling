{
 "cells": [
  {
   "cell_type": "code",
   "execution_count": 1,
   "metadata": {
    "collapsed": true
   },
   "outputs": [],
   "source": [
    "import numpy as np\n",
    "import pandas as pd\n",
    "import tensorflow as tf\n",
    "\n",
    "import matplotlib.pyplot as plt\n",
    "plt.style.use('seaborn')\n",
    "\n",
    "import warnings\n",
    "warnings.filterwarnings('ignore')\n",
    "\n",
    "import os"
   ]
  },
  {
   "cell_type": "code",
   "execution_count": 2,
   "outputs": [],
   "source": [
    "from bluesunb.preprocessing.stock_preprocessing import load_data_with_preprocessing\n",
    "\n",
    "options = {\n",
    "    'seq_len': 128,\n",
    "    'pred_len': 7,\n",
    "    'using_cols': ['open', 'high', 'low', 'close', 'vol'],\n",
    "}\n",
    "file_path = os.path.abspath('../data/samsung-stock-data-2000-2021.csv')\n",
    "(X_train, y_train), (X_valid, y_valid), (X_test, y_test), df = \\\n",
    "    load_data_with_preprocessing(file_path, options)"
   ],
   "metadata": {
    "collapsed": false,
    "pycharm": {
     "name": "#%%\n"
    }
   }
  },
  {
   "cell_type": "markdown",
   "source": [
    "# Time Embedding"
   ],
   "metadata": {
    "collapsed": false
   }
  },
  {
   "cell_type": "code",
   "execution_count": 3,
   "outputs": [
    {
     "name": "stdout",
     "output_type": "stream",
     "text": [
      "Index(['open', 'high', 'low', 'close'], dtype='object')\n"
     ]
    }
   ],
   "source": [
    "from tensorflow.python.keras.layers import Layer\n",
    "time_cols_num = 4\n",
    "print(df.columns[:time_cols_num])\n",
    "class Time2Vector(Layer):\n",
    "    def __init__(self, seq_len, **kwargs):\n",
    "        super(Time2Vector, self).__init__()\n",
    "        self.seq_len = seq_len\n",
    "\n",
    "    def build(self, input_shape):\n",
    "        self.weights_linear = self.add_weight(name='weight_linear',\n",
    "                                              shape=(int(self.seq_len),),\n",
    "                                              initializer='uniform',\n",
    "                                              trainable=True)\n",
    "\n",
    "        self.bias_linear = self.add_weight(name='bias_linear',\n",
    "                                           shape=(int(self.seq_len),),\n",
    "                                           initializer='uniform',\n",
    "                                           trainable=True)\n",
    "\n",
    "        self.weights_periodic = self.add_weight(name='weight_periodic',\n",
    "                                                shape=(int(self.seq_len),),\n",
    "                                                initializer='uniform',\n",
    "                                                trainable=True)\n",
    "\n",
    "        self.bias_periodic = self.add_weight(name='bias_periodic',\n",
    "                                               shape=(int(self.seq_len),),\n",
    "                                               initializer='uniform',\n",
    "                                               trainable=True)\n",
    "\n",
    "    def call(self, inputs, *args, **kwargs):\n",
    "        x = tf.math.reduce_mean(inputs[:,:,:time_cols_num], axis=-1)\n",
    "        time_linear = self.weights_linear * x + self.bias_linear\n",
    "        time_linear = tf.expand_dims(time_linear, axis=-1)  #(N, seq_len, 1)\n",
    "\n",
    "        time_periodc = tf.math.sin(tf.multiply(x, self.weights_periodic) + self.bias_periodic)\n",
    "        time_periodc = tf.expand_dims(time_periodc, axis=-1)\n",
    "        return tf.concat([time_linear, time_periodc], axis=-1)  #(N, seq_len, 2)\n",
    "\n",
    "    def get_config(self):\n",
    "        config = super().get_config().copy()\n",
    "        config.update({'seq_len': self.seq_len})\n",
    "        return config"
   ],
   "metadata": {
    "collapsed": false,
    "pycharm": {
     "name": "#%%\n"
    }
   }
  },
  {
   "cell_type": "markdown",
   "source": [
    "# Attention"
   ],
   "metadata": {
    "collapsed": false
   }
  },
  {
   "cell_type": "code",
   "execution_count": 4,
   "outputs": [],
   "source": [
    "from tensorflow.python.keras.layers import Dense\n",
    "\n",
    "class SingleAttention(Layer):\n",
    "    def __init__(self, d_k, d_v):\n",
    "        super(SingleAttention, self).__init__()\n",
    "        self.d_k = d_k\n",
    "        self.d_v = d_v\n",
    "\n",
    "    def build(self, input_shape):\n",
    "        self.query = Dense(self.d_k,\n",
    "                           name='query_linear',\n",
    "                           input_shape=input_shape,\n",
    "                           kernel_initializer='glorot_uniform',\n",
    "                           bias_initializer='glorot_uniform')\n",
    "\n",
    "        self.key = Dense(self.d_k,\n",
    "                         name='key_linear',\n",
    "                         input_shape=input_shape,\n",
    "                         kernel_initializer='glorot_uniform',\n",
    "                         bias_initializer='glorot_uniform')\n",
    "\n",
    "        self.value = Dense(self.d_v,\n",
    "                           name='value_linear',\n",
    "                           input_shape=input_shape,\n",
    "                           kernel_initializer='glorot_uniform',\n",
    "                           bias_initializer='glorot_uniform')\n",
    "\n",
    "    def call(self, inputs, *args, **kwargs):\n",
    "        # inputs = (in_seq, in_seq, in_seq)\n",
    "        q = self.query(inputs[0])   # (in_seq, d_k)\n",
    "        k = self.key(inputs[1])     # (in_seq, d_k)\n",
    "        v = self.value(inputs[2])   # (in_seq, d_v)\n",
    "\n",
    "        attn_weights = tf.matmul(q, k, transpose_b=True)    # (in_seq, in_seq)\n",
    "        attn_weights = tf.map_fn(lambda x: x/np.sqrt(self.d_k), attn_weights)\n",
    "        attn_weights = tf.nn.softmax(attn_weights, axis=-1) # (in_seq, in_seq)\n",
    "\n",
    "        attn_out = tf.matmul(attn_weights, v)   # (in_seq, d_v)\n",
    "        return attn_out\n",
    "\n",
    "\n",
    "class MultiAttention(Layer):\n",
    "    def __init__(self, d_k, d_v, n_heads):\n",
    "        super(MultiAttention, self).__init__()\n",
    "        self.d_k = d_k\n",
    "        self.d_v = d_v\n",
    "        self.n_heads = n_heads\n",
    "        self.attn_heads = []\n",
    "\n",
    "\n",
    "    def build(self, input_shape):\n",
    "        for n in range(self.n_heads):\n",
    "            self.attn_heads.append(SingleAttention(self.d_k, self.d_v))\n",
    "        self.linear = Dense(input_shape[0][-1],\n",
    "                            name='multi_attn_linear',\n",
    "                            input_shape=input_shape,\n",
    "                            kernel_initializer='glorot_uniform',\n",
    "                            bias_initializer='glorot_uniform')\n",
    "\n",
    "    def call(self, inputs, *args, **kwargs):\n",
    "        attn = [self.attn_heads[i](inputs) for i in range(self.n_heads)]\n",
    "        concat_attn = tf.concat(attn, axis=-1)  # (in_seq, 3*d_v)\n",
    "        multi_linear = self.linear(concat_attn) # (in_seq, input_shape[0][-1])\n",
    "        return multi_linear"
   ],
   "metadata": {
    "collapsed": false,
    "pycharm": {
     "name": "#%%\n"
    }
   }
  },
  {
   "cell_type": "markdown",
   "source": [
    "# Transformer"
   ],
   "metadata": {
    "collapsed": false
   }
  },
  {
   "cell_type": "code",
   "execution_count": 5,
   "outputs": [],
   "source": [
    "from tensorflow.python.keras.layers import Dropout, LayerNormalization, Conv1D\n",
    "\n",
    "class TransformerEncoder(Layer):\n",
    "    def __init__(self, d_k, d_v, n_heads, ff_dim, dropout=0.1, **kwargs):\n",
    "        super(TransformerEncoder, self).__init__()\n",
    "        self.d_k = d_k\n",
    "        self.d_v = d_v\n",
    "        self.n_heads = n_heads\n",
    "        self.ff_dim = ff_dim\n",
    "        self.attn_heads = []\n",
    "        self.dropout_rate = dropout\n",
    "\n",
    "    def build(self, input_shape):\n",
    "        self.attn_multi = MultiAttention(self.d_k, self.d_v, self.n_heads)\n",
    "        self.attn_dropout = Dropout(self.dropout_rate, name='attn_dropout')\n",
    "        self.attn_normalize = LayerNormalization(input_shape=input_shape, epsilon=1e-6, name='attn_ln')\n",
    "\n",
    "        self.ff_conv1D_1 = Conv1D(filters=self.ff_dim, kernel_size=1, activation='relu', name='ff_conv1D_1')\n",
    "        self.ff_conv1D_2 = Conv1D(filters=input_shape[0][-1], kernel_size=1, name='ff_conv1D_2')\n",
    "        self.ff_dropout = Dropout(self.dropout_rate, name='ff_dropout')\n",
    "        self.ff_normalize = LayerNormalization(input_shape=input_shape, epsilon=1e-6, name='ff_ln')\n",
    "\n",
    "    def call(self, inputs, *args, **kwargs):\n",
    "        attn_layer = self.attn_multi(inputs)    # (in_seq, in_seq)\n",
    "        attn_layer = self.attn_dropout(attn_layer)\n",
    "        attn_layer = self.attn_normalize(inputs[0] + attn_layer)\n",
    "\n",
    "        ff_layer = self.ff_conv1D_1(attn_layer)\n",
    "        ff_layer = self.ff_conv1D_2(ff_layer)\n",
    "        ff_layer = self.ff_dropout(ff_layer)\n",
    "        ff_layer = self.ff_normalize(inputs[0] + ff_layer)\n",
    "        return ff_layer\n",
    "\n",
    "    def get_config(self):\n",
    "        config = super().get_config().copy()\n",
    "        config.update({'d_k': self.d_k,\n",
    "                       'd_v': self.d_v,\n",
    "                       'n_heads': self.n_heads,\n",
    "                       'attn_heads': self.attn_heads,\n",
    "                       'ff_dim': self.ff_dim,\n",
    "                       'dropout_rate': self.dropout_rate})\n",
    "        return config"
   ],
   "metadata": {
    "collapsed": false,
    "pycharm": {
     "name": "#%%\n"
    }
   }
  },
  {
   "cell_type": "markdown",
   "source": [
    "# Model"
   ],
   "metadata": {
    "collapsed": false
   }
  },
  {
   "cell_type": "code",
   "execution_count": 6,
   "outputs": [],
   "source": [
    "seq_len = options['seq_len']\n",
    "pred_len = options['pred_len']\n",
    "d_k = int(256*5/8)\n",
    "d_v = int(256*5/8)\n",
    "batch_size = 24\n",
    "n_heads = 12\n",
    "ff_dim = int(256*5/8)"
   ],
   "metadata": {
    "collapsed": false,
    "pycharm": {
     "name": "#%%\n"
    }
   }
  },
  {
   "cell_type": "code",
   "execution_count": 7,
   "outputs": [],
   "source": [
    "from tensorflow.python.keras.layers import Input, GlobalAveragePooling1D, Concatenate\n",
    "from tensorflow.python.keras.models import Model\n",
    "def create_model(col_len):\n",
    "    time_embedding = Time2Vector(seq_len=seq_len)\n",
    "    attn_layer1 = TransformerEncoder(d_k, d_v, n_heads, ff_dim)\n",
    "    attn_layer2 = TransformerEncoder(d_k, d_v, n_heads, ff_dim)\n",
    "    attn_layer3 = TransformerEncoder(d_k, d_v, n_heads, ff_dim)\n",
    "\n",
    "    in_seq = Input(shape=(seq_len, col_len))\n",
    "    x = time_embedding(in_seq)\n",
    "    x = Concatenate(axis=-1)([in_seq, x])\n",
    "\n",
    "    x = attn_layer1((x,x,x))\n",
    "    x = attn_layer2((x,x,x))\n",
    "    x = attn_layer3((x,x,x))\n",
    "\n",
    "    x = GlobalAveragePooling1D(data_format='channels_first')(x)\n",
    "    x = Dropout(0.1)(x)\n",
    "    x = Dense(64, activation='relu')(x)\n",
    "    x = Dropout(0.1)(x)\n",
    "    out = Dense(pred_len, activation='linear')(x)\n",
    "\n",
    "    model = Model(inputs=in_seq, outputs=out)\n",
    "    model.compile(loss='mse', optimizer='adam', metrics=['mae', 'mape'])\n",
    "    return model\n",
    "\n",
    "model = create_model(X_train.shape[-1])"
   ],
   "metadata": {
    "collapsed": false,
    "pycharm": {
     "name": "#%%\n"
    }
   }
  },
  {
   "cell_type": "code",
   "execution_count": 8,
   "outputs": [
    {
     "data": {
      "image/png": "[encoded data removed]",
      "text/plain": "<IPython.core.display.Image object>"
     },
     "execution_count": 8,
     "metadata": {},
     "output_type": "execute_result"
    }
   ],
   "source": [
    "from tensorflow.python.keras.utils.vis_utils import plot_model\n",
    "plot_model(model, show_layer_names=True, show_shapes=True, dpi=75)"
   ],
   "metadata": {
    "collapsed": false,
    "pycharm": {
     "name": "#%%\n"
    }
   }
  },
  {
   "cell_type": "code",
   "execution_count": null,
   "outputs": [],
   "source": [
    "from tensorflow.python.keras.callbacks import ModelCheckpoint\n",
    "mc = ModelCheckpoint('Tf+Te.hdf5', monitor='val_loss', save_best_only=True, verbose=1)\n",
    "history = model.fit(X_train, y_train, batch_size=batch_size, epochs=40, callbacks=[mc],\n",
    "                    validation_data=(X_valid, y_valid))"
   ],
   "metadata": {
    "collapsed": false,
    "pycharm": {
     "name": "#%%\n"
    }
   }
  },
  {
   "cell_type": "markdown",
   "source": [
    "## Evaluation"
   ],
   "metadata": {
    "collapsed": false,
    "pycharm": {
     "name": "#%% md\n"
    }
   }
  },
  {
   "cell_type": "code",
   "execution_count": null,
   "outputs": [],
   "source": [
    "train_pred = model.predict(X_train)\n",
    "val_pred = model.predict(X_valid)\n",
    "test_pred = model.predict(X_test)\n",
    "\n",
    "train_eval = model.evaluate(X_train, y_train, verbose=0)\n",
    "val_eval = model.evaluate(X_valid, y_valid, verbose=0)\n",
    "test_eval = model.evaluate(X_test, y_test, verbose=0)\n",
    "print('Evaluation metrics')\n",
    "print('Training Data - Loss: {:.4f}, MAE: {:.4f}, MAPE: {:.4f}'.format(train_eval[0], train_eval[1], train_eval[2]))\n",
    "print('Validation Data - Loss: {:.4f}, MAE: {:.4f}, MAPE: {:.4f}'.format(val_eval[0], val_eval[1], val_eval[2]))\n",
    "print('Test Data - Loss: {:.4f}, MAE: {:.4f}, MAPE: {:.4f}'.format(test_eval[0], test_eval[1], test_eval[2]))"
   ],
   "metadata": {
    "collapsed": false,
    "pycharm": {
     "name": "#%%\n"
    }
   }
  },
  {
   "cell_type": "code",
   "execution_count": null,
   "outputs": [],
   "source": [
    "def list_plot_pred(pred):\n",
    "    \"\"\"\n",
    "    If pred_len > 1, the result prediction data is mean on non-zeros of overlapped\n",
    "    \"\"\"\n",
    "    if pred.shape[1]==1:\n",
    "        return pred\n",
    "\n",
    "    plot_pred = np.zeros((len(pred), len(pred)))\n",
    "    for i in range(len(pred)):\n",
    "        plot_pred[i] = np.pad(pred[i], [i, len(pred)-i-pred.shape[1]])\n",
    "\n",
    "    nonzero = np.count_nonzero(plot_pred, axis=0)\n",
    "    plot_pred = np.sum(plot_pred, axis=0)/nonzero\n",
    "    return plot_pred\n",
    "\n",
    "train_pred = list_plot_pred(train_pred)\n",
    "val_pred = list_plot_pred(val_pred)\n",
    "test_pred = list_plot_pred(test_pred)"
   ],
   "metadata": {
    "collapsed": false,
    "pycharm": {
     "name": "#%%\n"
    }
   }
  },
  {
   "cell_type": "code",
   "execution_count": null,
   "outputs": [],
   "source": [
    "fig = plt.figure(figsize=(15,20))\n",
    "st = fig.suptitle(\"Transformer + TimeEmbedding Model\", fontsize=22)\n",
    "st.set_y(0.92)\n",
    "\n",
    "#Plot training data results\n",
    "ax11 = fig.add_subplot(311)\n",
    "ax11.plot(y_train, label='IBM Closing Returns')\n",
    "ax11.plot(np.arange(seq_len, train_pred.shape[0]+seq_len), train_pred, linewidth=3, label='Predicted IBM Closing Returns')\n",
    "ax11.set_title(\"Training Data\", fontsize=18)\n",
    "ax11.set_xlabel('Date')\n",
    "ax11.set_ylabel('IBM Closing Returns')\n",
    "ax11.legend(loc=\"best\", fontsize=12)\n",
    "\n",
    "#Plot validation data results\n",
    "ax21 = fig.add_subplot(312)\n",
    "ax21.plot(y_valid, label='IBM Closing Returns')\n",
    "# ax21.plot(np.arange(seq_len, val_pred.shape[0]+seq_len), val_pred, linewidth=3, label='Predicted IBM Closing Returns')\n",
    "ax21.plot(np.arange(len(val_pred)), val_pred, linewidth=3, label='Predicted IBM Closing Returns')\n",
    "ax21.set_title(\"Validation Data\", fontsize=18)\n",
    "ax21.set_xlabel('Date')\n",
    "ax21.set_ylabel('IBM Closing Returns')\n",
    "ax21.legend(loc=\"best\", fontsize=12)\n",
    "\n",
    "#Plot test data results\n",
    "ax31 = fig.add_subplot(313)\n",
    "ax31.plot(y_test, label='IBM Closing Returns')\n",
    "# ax31.plot(np.arange(seq_len, test_pred.shape[0]+seq_len), test_pred, linewidth=3, label='Predicted IBM Closing Returns')\n",
    "ax31.plot(np.arange(len(test_pred)), test_pred, linewidth=3, label='Predicted IBM Closing Returns')\n",
    "ax31.set_title(\"Test Data\", fontsize=18)\n",
    "ax31.set_xlabel('Date')\n",
    "ax31.set_ylabel('IBM Closing Returns')\n",
    "ax31.legend(loc=\"best\", fontsize=12)"
   ],
   "metadata": {
    "collapsed": false,
    "pycharm": {
     "name": "#%%\n"
    }
   }
  },
  {
   "cell_type": "markdown",
   "source": [
    "## Teacher Forcing"
   ],
   "metadata": {
    "collapsed": false,
    "pycharm": {
     "name": "#%% md\n"
    }
   }
  },
  {
   "cell_type": "code",
   "execution_count": null,
   "outputs": [],
   "source": [
    "def make_validation(data):\n",
    "  data = data.copy()\n",
    "  pred = data[0, :, 3].tolist()\n",
    "  for i in range(0, len(data), pred_len):\n",
    "    X = data[i]\n",
    "    X[:, 3] = pred[-seq_len:]\n",
    "    output = model.predict(X[None,:,:]).flatten().tolist()\n",
    "    pred.extend(output)\n",
    "  return pred[seq_len:]"
   ],
   "metadata": {
    "collapsed": false,
    "pycharm": {
     "name": "#%%\n"
    }
   }
  },
  {
   "cell_type": "code",
   "execution_count": null,
   "outputs": [],
   "source": [
    "fig = plt.figure(figsize=(15,20))\n",
    "st = fig.suptitle(\"Transformer + TimeEmbedding Model\", fontsize=22)\n",
    "st.set_y(0.92)\n",
    "\n",
    "#Plot training data results\n",
    "ax11 = fig.add_subplot(311)\n",
    "ax11.plot(y_train, label='IBM Closing Returns')\n",
    "ax11.plot(np.arange(seq_len, train_pred.shape[0]+seq_len), train_pred, linewidth=3, label='Predicted IBM Closing Returns')\n",
    "ax11.set_title(\"Training Data\", fontsize=18)\n",
    "ax11.set_xlabel('Date')\n",
    "ax11.set_ylabel('IBM Closing Returns')\n",
    "ax11.legend(loc=\"best\", fontsize=12)\n",
    "\n",
    "#Plot validation data results\n",
    "ax21 = fig.add_subplot(312)\n",
    "ax21.plot(y_valid, label='IBM Closing Returns')\n",
    "# ax21.plot(np.arange(seq_len, val_pred.shape[0]+seq_len), val_pred, linewidth=3, label='Predicted IBM Closing Returns')\n",
    "ax21.plot(np.arange(len(val_pred[seq_len:])), val_pred[seq_len:], linewidth=3, label='Predicted IBM Closing Returns')\n",
    "ax21.set_title(\"Validation Data\", fontsize=18)\n",
    "ax21.set_xlabel('Date')\n",
    "ax21.set_ylabel('IBM Closing Returns')\n",
    "ax21.legend(loc=\"best\", fontsize=12)\n",
    "\n",
    "#Plot test data results\n",
    "ax31 = fig.add_subplot(313)\n",
    "ax31.plot(y_test, label='IBM Closing Returns')\n",
    "# ax31.plot(np.arange(seq_len, test_pred.shape[0]+seq_len), test_pred, linewidth=3, label='Predicted IBM Closing Returns')\n",
    "ax31.plot(np.arange(len(test_pred[seq_len:])), test_pred[seq_len:], linewidth=3, label='Predicted IBM Closing Returns')\n",
    "ax31.set_title(\"Test Data\", fontsize=18)\n",
    "ax31.set_xlabel('Date')\n",
    "ax31.set_ylabel('IBM Closing Returns')\n",
    "ax31.legend(loc=\"best\", fontsize=12)"
   ],
   "metadata": {
    "collapsed": false,
    "pycharm": {
     "name": "#%%\n"
    }
   }
  }
 ],
 "metadata": {
  "kernelspec": {
   "display_name": "Python 3",
   "language": "python",
   "name": "python3"
  },
  "language_info": {
   "codemirror_mode": {
    "name": "ipython",
    "version": 2
   },
   "file_extension": ".py",
   "mimetype": "text/x-python",
   "name": "python",
   "nbconvert_exporter": "python",
   "pygments_lexer": "ipython2",
   "version": "2.7.6"
  }
 },
 "nbformat": 4,
 "nbformat_minor": 0
}