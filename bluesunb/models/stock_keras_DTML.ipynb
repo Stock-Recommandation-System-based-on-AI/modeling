{
 "cells": [
  {
   "cell_type": "code",
   "execution_count": 3,
   "metadata": {
    "collapsed": true
   },
   "outputs": [],
   "source": [
    "import numpy as np\n",
    "import tensorflow as tf"
   ]
  },
  {
   "cell_type": "code",
   "execution_count": 10,
   "outputs": [],
   "source": [
    "from tensorflow.python.keras.layers import Layer, Dense, LSTM\n",
    "\n",
    "class AttentionLSTM(Layer):\n",
    "    def __init__(self, units, ft_dim):\n",
    "        super(AttentionLSTM, self).__init__()\n",
    "        self.units = units\n",
    "        self.ft_dim = ft_dim\n",
    "\n",
    "    def build(self, input_shape):\n",
    "        self.feature_trans_weight = Dense(self.ft_dim,\n",
    "                                          input_shape=input_shape,\n",
    "                                          kernel_initializer='glorot_uniform',\n",
    "                                          bias_initializer='glorot_uniform',\n",
    "                                          activation='tanh')\n",
    "\n",
    "        self.lstm = LSTM(self.units, return_sequences=True, return_state=False)\n",
    "\n",
    "    def call(self, inputs, *args, **kwargs):\n",
    "        # inputs: (B, N, T, V)\n",
    "        # B: batch_size, N: number of stocks, T: sequence length, V: number of features\n",
    "        feature = tf.reshape(inputs, shape=(-1, inputs.shape[2], inputs.shape[3]))  # (B*N, T, V)\n",
    "        feature = self.feature_trans_weight(feature) # (B*N, T, ft_dim)\n",
    "        feature = self.lstm(feature) # (B*N, T, units)\n",
    "        attn = tf.matmul(tf.expand_dims(feature[:,-1,:], axis=1), feature, transpose_b=True) # (B*N, 1, T)\n",
    "        attn = tf.nn.softmax(attn, axis=-1) # (B*N, 1, T)\n",
    "        attn = tf.reshape(attn, shape=(inputs.shape[0], inputs.shape[1], -1, 1)) # (B, N, T, 1)\n",
    "\n",
    "        feature = tf.reshape(feature, shape=(inputs.shape[0], inputs.shape[1], feature.shape[1], feature.shape[2])) # (B, N, T, units)\n",
    "        context = tf.math.reduce_sum(attn*feature, axis=2) # (B, N, units)\n",
    "        return context\n",
    "\n",
    "class ContextNormalize(Layer):\n",
    "    def __init__(self):\n",
    "        super(ContextNormalize, self).__init__()\n",
    "\n",
    "    def build(self, input_shape):\n",
    "        self.norm_weight = self.add_weight(name='norm_weight',\n",
    "                                           shape=input_shape,\n",
    "                                           initializer='uniform',\n",
    "                                           trainable=True)\n",
    "        self.norm_bias = self.add_weight(name='norm_bias',\n",
    "                                         shape=input_shape,\n",
    "                                         initializer='uniform',\n",
    "                                         trainable=True)\n",
    "\n",
    "    def call(self, context, *args, **kwargs):\n",
    "        # context: (B, N, units)\n",
    "        context = (context - tf.math.reduce_mean(context))/tf.math.reduce_std(context) # (B, N, units)\n",
    "        context = self.norm_weight * context + self.norm_bias\n",
    "        return context"
   ],
   "metadata": {
    "collapsed": false,
    "pycharm": {
     "name": "#%%\n"
    }
   }
  },
  {
   "cell_type": "code",
   "execution_count": 11,
   "outputs": [
    {
     "name": "stdout",
     "output_type": "stream",
     "text": [
      "inputs: (32, 50, 128, 7)\n",
      "feature_trans: (1600, 128, 64)\n",
      "lstm: (1600, 128, 72)\n",
      "attn: (1600, 1, 128)\n",
      "attn_soft: (1600, 1, 128)\n",
      "attn_reshape: (32, 50, 128, 1)\n",
      "feature_reshape: (32, 50, 128, 72)\n",
      "context: (32, 50, 72)\n"
     ]
    }
   ],
   "source": [
    "x = np.random.rand(32,50,128,7)\n",
    "attn = AttentionLSTM(72,64)(x)"
   ],
   "metadata": {
    "collapsed": false,
    "pycharm": {
     "name": "#%%\n"
    }
   }
  },
  {
   "cell_type": "code",
   "execution_count": null,
   "outputs": [],
   "source": [],
   "metadata": {
    "collapsed": false,
    "pycharm": {
     "name": "#%%"
    }
   }
  }
 ],
 "metadata": {
  "kernelspec": {
   "display_name": "Python 3",
   "language": "python",
   "name": "python3"
  },
  "language_info": {
   "codemirror_mode": {
    "name": "ipython",
    "version": 2
   },
   "file_extension": ".py",
   "mimetype": "text/x-python",
   "name": "python",
   "nbconvert_exporter": "python",
   "pygments_lexer": "ipython2",
   "version": "2.7.6"
  }
 },
 "nbformat": 4,
 "nbformat_minor": 0
}