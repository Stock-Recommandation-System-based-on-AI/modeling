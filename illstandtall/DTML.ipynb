{
 "cells": [
  {
   "cell_type": "code",
   "execution_count": 39,
   "metadata": {},
   "outputs": [],
   "source": [
    "import numpy as np\n",
    "import pandas as pd\n",
    "import tensorflow as tf"
   ]
  },
  {
   "cell_type": "markdown",
   "metadata": {},
   "source": [
    "## 데이터 업로드"
   ]
  },
  {
   "cell_type": "code",
   "execution_count": 88,
   "metadata": {},
   "outputs": [
    {
     "data": {
      "text/html": [
       "<div>\n",
       "<style scoped>\n",
       "    .dataframe tbody tr th:only-of-type {\n",
       "        vertical-align: middle;\n",
       "    }\n",
       "\n",
       "    .dataframe tbody tr th {\n",
       "        vertical-align: top;\n",
       "    }\n",
       "\n",
       "    .dataframe thead th {\n",
       "        text-align: right;\n",
       "    }\n",
       "</style>\n",
       "<table border=\"1\" class=\"dataframe\">\n",
       "  <thead>\n",
       "    <tr style=\"text-align: right;\">\n",
       "      <th></th>\n",
       "      <th>code</th>\n",
       "      <th>name</th>\n",
       "      <th>date</th>\n",
       "      <th>open</th>\n",
       "      <th>high</th>\n",
       "      <th>low</th>\n",
       "      <th>close</th>\n",
       "      <th>z_d5</th>\n",
       "      <th>z_d10</th>\n",
       "      <th>z_d15</th>\n",
       "      <th>z_d20</th>\n",
       "      <th>z_d25</th>\n",
       "      <th>z_d30</th>\n",
       "    </tr>\n",
       "  </thead>\n",
       "  <tbody>\n",
       "    <tr>\n",
       "      <th>0</th>\n",
       "      <td>U182</td>\n",
       "      <td>kospi50_index</td>\n",
       "      <td>20000302</td>\n",
       "      <td>-0.026858</td>\n",
       "      <td>0.008017</td>\n",
       "      <td>-0.049241</td>\n",
       "      <td>0.000000</td>\n",
       "      <td>0.000000</td>\n",
       "      <td>0.000000</td>\n",
       "      <td>0.000000</td>\n",
       "      <td>0.000000</td>\n",
       "      <td>0.000000</td>\n",
       "      <td>0.000000</td>\n",
       "    </tr>\n",
       "    <tr>\n",
       "      <th>1</th>\n",
       "      <td>U182</td>\n",
       "      <td>kospi50_index</td>\n",
       "      <td>20000303</td>\n",
       "      <td>0.013774</td>\n",
       "      <td>0.015986</td>\n",
       "      <td>-0.018534</td>\n",
       "      <td>0.006107</td>\n",
       "      <td>-0.003035</td>\n",
       "      <td>-0.003035</td>\n",
       "      <td>-0.003035</td>\n",
       "      <td>-0.003035</td>\n",
       "      <td>-0.003035</td>\n",
       "      <td>-0.003035</td>\n",
       "    </tr>\n",
       "    <tr>\n",
       "      <th>2</th>\n",
       "      <td>U182</td>\n",
       "      <td>kospi50_index</td>\n",
       "      <td>20000306</td>\n",
       "      <td>0.009723</td>\n",
       "      <td>0.015594</td>\n",
       "      <td>-0.006075</td>\n",
       "      <td>0.005048</td>\n",
       "      <td>-0.005362</td>\n",
       "      <td>-0.005362</td>\n",
       "      <td>-0.005362</td>\n",
       "      <td>-0.005362</td>\n",
       "      <td>-0.005362</td>\n",
       "      <td>-0.005362</td>\n",
       "    </tr>\n",
       "    <tr>\n",
       "      <th>3</th>\n",
       "      <td>U182</td>\n",
       "      <td>kospi50_index</td>\n",
       "      <td>20000307</td>\n",
       "      <td>-0.002268</td>\n",
       "      <td>0.000024</td>\n",
       "      <td>-0.019956</td>\n",
       "      <td>-0.003408</td>\n",
       "      <td>-0.001470</td>\n",
       "      <td>-0.001470</td>\n",
       "      <td>-0.001470</td>\n",
       "      <td>-0.001470</td>\n",
       "      <td>-0.001470</td>\n",
       "      <td>-0.001470</td>\n",
       "    </tr>\n",
       "    <tr>\n",
       "      <th>4</th>\n",
       "      <td>U182</td>\n",
       "      <td>kospi50_index</td>\n",
       "      <td>20000308</td>\n",
       "      <td>-0.024744</td>\n",
       "      <td>0.003897</td>\n",
       "      <td>-0.039527</td>\n",
       "      <td>0.013068</td>\n",
       "      <td>-0.011480</td>\n",
       "      <td>-0.011480</td>\n",
       "      <td>-0.011480</td>\n",
       "      <td>-0.011480</td>\n",
       "      <td>-0.011480</td>\n",
       "      <td>-0.011480</td>\n",
       "    </tr>\n",
       "    <tr>\n",
       "      <th>...</th>\n",
       "      <td>...</td>\n",
       "      <td>...</td>\n",
       "      <td>...</td>\n",
       "      <td>...</td>\n",
       "      <td>...</td>\n",
       "      <td>...</td>\n",
       "      <td>...</td>\n",
       "      <td>...</td>\n",
       "      <td>...</td>\n",
       "      <td>...</td>\n",
       "      <td>...</td>\n",
       "      <td>...</td>\n",
       "      <td>...</td>\n",
       "    </tr>\n",
       "    <tr>\n",
       "      <th>276194</th>\n",
       "      <td>A005380</td>\n",
       "      <td>현대차</td>\n",
       "      <td>20210831</td>\n",
       "      <td>-0.011765</td>\n",
       "      <td>0.000000</td>\n",
       "      <td>-0.021176</td>\n",
       "      <td>0.011905</td>\n",
       "      <td>-0.011294</td>\n",
       "      <td>-0.019059</td>\n",
       "      <td>-0.005176</td>\n",
       "      <td>0.008471</td>\n",
       "      <td>0.015247</td>\n",
       "      <td>0.023843</td>\n",
       "    </tr>\n",
       "    <tr>\n",
       "      <th>276195</th>\n",
       "      <td>A005380</td>\n",
       "      <td>현대차</td>\n",
       "      <td>20210901</td>\n",
       "      <td>-0.004651</td>\n",
       "      <td>0.016279</td>\n",
       "      <td>-0.006977</td>\n",
       "      <td>0.011765</td>\n",
       "      <td>-0.017674</td>\n",
       "      <td>-0.029302</td>\n",
       "      <td>-0.017984</td>\n",
       "      <td>-0.005233</td>\n",
       "      <td>0.001581</td>\n",
       "      <td>0.010078</td>\n",
       "    </tr>\n",
       "    <tr>\n",
       "      <th>276196</th>\n",
       "      <td>A005380</td>\n",
       "      <td>현대차</td>\n",
       "      <td>20210902</td>\n",
       "      <td>0.011820</td>\n",
       "      <td>0.016548</td>\n",
       "      <td>-0.007092</td>\n",
       "      <td>-0.016279</td>\n",
       "      <td>0.000000</td>\n",
       "      <td>-0.010875</td>\n",
       "      <td>-0.003940</td>\n",
       "      <td>0.008038</td>\n",
       "      <td>0.016076</td>\n",
       "      <td>0.024192</td>\n",
       "    </tr>\n",
       "    <tr>\n",
       "      <th>276197</th>\n",
       "      <td>A005380</td>\n",
       "      <td>현대차</td>\n",
       "      <td>20210903</td>\n",
       "      <td>-0.006993</td>\n",
       "      <td>0.004662</td>\n",
       "      <td>-0.011655</td>\n",
       "      <td>0.014184</td>\n",
       "      <td>-0.008392</td>\n",
       "      <td>-0.018648</td>\n",
       "      <td>-0.019270</td>\n",
       "      <td>-0.008042</td>\n",
       "      <td>0.000466</td>\n",
       "      <td>0.007692</td>\n",
       "    </tr>\n",
       "    <tr>\n",
       "      <th>276198</th>\n",
       "      <td>A005380</td>\n",
       "      <td>현대차</td>\n",
       "      <td>20210906</td>\n",
       "      <td>-0.002326</td>\n",
       "      <td>0.004651</td>\n",
       "      <td>-0.006977</td>\n",
       "      <td>0.002331</td>\n",
       "      <td>-0.006047</td>\n",
       "      <td>-0.015814</td>\n",
       "      <td>-0.022171</td>\n",
       "      <td>-0.012093</td>\n",
       "      <td>-0.002419</td>\n",
       "      <td>0.003721</td>\n",
       "    </tr>\n",
       "  </tbody>\n",
       "</table>\n",
       "<p>276199 rows × 13 columns</p>\n",
       "</div>"
      ],
      "text/plain": [
       "           code           name      date      open      high       low  \\\n",
       "0          U182  kospi50_index  20000302 -0.026858  0.008017 -0.049241   \n",
       "1          U182  kospi50_index  20000303  0.013774  0.015986 -0.018534   \n",
       "2          U182  kospi50_index  20000306  0.009723  0.015594 -0.006075   \n",
       "3          U182  kospi50_index  20000307 -0.002268  0.000024 -0.019956   \n",
       "4          U182  kospi50_index  20000308 -0.024744  0.003897 -0.039527   \n",
       "...         ...            ...       ...       ...       ...       ...   \n",
       "276194  A005380            현대차  20210831 -0.011765  0.000000 -0.021176   \n",
       "276195  A005380            현대차  20210901 -0.004651  0.016279 -0.006977   \n",
       "276196  A005380            현대차  20210902  0.011820  0.016548 -0.007092   \n",
       "276197  A005380            현대차  20210903 -0.006993  0.004662 -0.011655   \n",
       "276198  A005380            현대차  20210906 -0.002326  0.004651 -0.006977   \n",
       "\n",
       "           close      z_d5     z_d10     z_d15     z_d20     z_d25     z_d30  \n",
       "0       0.000000  0.000000  0.000000  0.000000  0.000000  0.000000  0.000000  \n",
       "1       0.006107 -0.003035 -0.003035 -0.003035 -0.003035 -0.003035 -0.003035  \n",
       "2       0.005048 -0.005362 -0.005362 -0.005362 -0.005362 -0.005362 -0.005362  \n",
       "3      -0.003408 -0.001470 -0.001470 -0.001470 -0.001470 -0.001470 -0.001470  \n",
       "4       0.013068 -0.011480 -0.011480 -0.011480 -0.011480 -0.011480 -0.011480  \n",
       "...          ...       ...       ...       ...       ...       ...       ...  \n",
       "276194  0.011905 -0.011294 -0.019059 -0.005176  0.008471  0.015247  0.023843  \n",
       "276195  0.011765 -0.017674 -0.029302 -0.017984 -0.005233  0.001581  0.010078  \n",
       "276196 -0.016279  0.000000 -0.010875 -0.003940  0.008038  0.016076  0.024192  \n",
       "276197  0.014184 -0.008392 -0.018648 -0.019270 -0.008042  0.000466  0.007692  \n",
       "276198  0.002331 -0.006047 -0.015814 -0.022171 -0.012093 -0.002419  0.003721  \n",
       "\n",
       "[276199 rows x 13 columns]"
      ]
     },
     "execution_count": 88,
     "metadata": {},
     "output_type": "execute_result"
    }
   ],
   "source": [
    "kospi50 = pd.read_csv(\"./data/preprocessed_kospi50_daily_stock_chart.csv\")\n",
    "kospi50"
   ]
  },
  {
   "cell_type": "markdown",
   "metadata": {},
   "source": [
    "## PreProcessing - raw 데이터 입력형태 맞추기"
   ]
  },
  {
   "cell_type": "code",
   "execution_count": 109,
   "metadata": {},
   "outputs": [
    {
     "name": "stdout",
     "output_type": "stream",
     "text": [
      "(5304, 1, 10, 10) (5304,)\n",
      "(5596, 1, 10, 10) (5596,)\n",
      "(5402, 1, 10, 10) (5402,)\n"
     ]
    }
   ],
   "source": [
    "def get_input_data(df):\n",
    "    codes = df.code.unique()\n",
    "    for cd in codes[:2]:\n",
    "        df_stock = df[df.code == cd]\n",
    "        df_stock.drop(columns=['code'], inplace=True)\n",
    "        df_stock.drop(columns=['name'], inplace=True)\n",
    "        df_stock.drop(columns=['date'], inplace=True)\n",
    "        df_stock = df_stock.values\n",
    "        \n",
    "        seq_len = 10\n",
    "        X_data, y_data = [], []\n",
    "        for i in range(seq_len, len(df_stock)):\n",
    "            X_data.append(df_stock[i-seq_len:i])\n",
    "            y_data.append(df_stock[:, 3][i]) # close price\n",
    "        X_data, y_data = np.array(X_data), np.array(y_data)\n",
    "        \n",
    "    X_data = X_data.reshape(-1, 1, seq_len, 10)\n",
    "\n",
    "    return X_data, y_data\n",
    "        \n",
    "        \n",
    "U182_x, U182_y = get_input_data(kospi50[kospi50.code == \"U182\"])\n",
    "A030200_x, A030200_y = get_input_data(kospi50[kospi50.code == \"A030200\"])\n",
    "A033780_x, A033780_y = get_input_data(kospi50[kospi50.code == \"A033780\"])\n",
    "print(U182_x.shape, U182_y.shape)\n",
    "print(A030200_x.shape, A030200_y.shape)\n",
    "print(A033780_x.shape, A033780_y.shape)"
   ]
  },
  {
   "cell_type": "code",
   "execution_count": 110,
   "metadata": {},
   "outputs": [
    {
     "ename": "ValueError",
     "evalue": "all the input array dimensions for the concatenation axis must match exactly, but along dimension 0, the array at index 0 has size 5402 and the array at index 1 has size 5596",
     "output_type": "error",
     "traceback": [
      "\u001b[1;31m---------------------------------------------------------------------------\u001b[0m",
      "\u001b[1;31mValueError\u001b[0m                                Traceback (most recent call last)",
      "\u001b[1;32m<ipython-input-110-f1c8916c9bd8>\u001b[0m in \u001b[0;36m<module>\u001b[1;34m\u001b[0m\n\u001b[1;32m----> 1\u001b[1;33m \u001b[0mnp\u001b[0m\u001b[1;33m.\u001b[0m\u001b[0mconcatenate\u001b[0m\u001b[1;33m(\u001b[0m\u001b[1;33m[\u001b[0m\u001b[0mA033780_x\u001b[0m\u001b[1;33m,\u001b[0m \u001b[0mA030200_x\u001b[0m\u001b[1;33m]\u001b[0m\u001b[1;33m,\u001b[0m \u001b[0maxis\u001b[0m\u001b[1;33m=\u001b[0m\u001b[1;36m1\u001b[0m\u001b[1;33m)\u001b[0m\u001b[1;33m\u001b[0m\u001b[1;33m\u001b[0m\u001b[0m\n\u001b[0m",
      "\u001b[1;32m<__array_function__ internals>\u001b[0m in \u001b[0;36mconcatenate\u001b[1;34m(*args, **kwargs)\u001b[0m\n",
      "\u001b[1;31mValueError\u001b[0m: all the input array dimensions for the concatenation axis must match exactly, but along dimension 0, the array at index 0 has size 5402 and the array at index 1 has size 5596"
     ]
    }
   ],
   "source": [
    "np.concatenate([A033780_x, A030200_x], axis=1)"
   ]
  },
  {
   "cell_type": "code",
   "execution_count": null,
   "metadata": {},
   "outputs": [],
   "source": [
    "print('Training set shape', X_data.shape, y_train_mi.shape)\n"
   ]
  },
  {
   "cell_type": "markdown",
   "metadata": {},
   "source": [
    "### Market index"
   ]
  },
  {
   "cell_type": "code",
   "execution_count": 54,
   "metadata": {},
   "outputs": [
    {
     "name": "stdout",
     "output_type": "stream",
     "text": [
      "Training set shape (5294, 20, 10) (5294,)\n"
     ]
    }
   ],
   "source": []
  },
  {
   "cell_type": "code",
   "execution_count": 34,
   "metadata": {},
   "outputs": [
    {
     "data": {
      "text/plain": [
       "(5294, 1, 20, 10)"
      ]
     },
     "execution_count": 34,
     "metadata": {},
     "output_type": "execute_result"
    }
   ],
   "source": [
    "\n",
    "test.shape"
   ]
  },
  {
   "cell_type": "code",
   "execution_count": 65,
   "metadata": {},
   "outputs": [
    {
     "data": {
      "text/plain": [
       "(5294, 2, 20, 10)"
      ]
     },
     "execution_count": 65,
     "metadata": {},
     "output_type": "execute_result"
    }
   ],
   "source": [
    "test1 = np.concatenate([test, test], axis=1)\n",
    "test1.shape"
   ]
  },
  {
   "cell_type": "markdown",
   "metadata": {},
   "source": [
    "### each stock"
   ]
  },
  {
   "cell_type": "code",
   "execution_count": 35,
   "metadata": {},
   "outputs": [],
   "source": [
    "from tensorflow.python.keras.layers import Layer, Dense, LSTM\n",
    "\n",
    "class AttentionLSTM(Layer):\n",
    "    def __init__(self, units, ft_dim):\n",
    "        super(AttentionLSTM, self).__init__()\n",
    "        self.units = units\n",
    "        self.ft_dim = ft_dim\n",
    "\n",
    "    def build(self, input_shape):\n",
    "        self.feature_trans_weight = Dense(self.ft_dim,\n",
    "                                          input_shape=input_shape,\n",
    "                                          kernel_initializer='glorot_uniform',\n",
    "                                          bias_initializer='glorot_uniform',\n",
    "                                          activation='tanh')\n",
    "\n",
    "        self.lstm = LSTM(self.units, return_sequences=True, return_state=False)\n",
    "\n",
    "    def call(self, inputs, *args, **kwargs):\n",
    "        # inputs: (B, N, T, V)\n",
    "        # B: batch_size, N: number of stocks, T: sequence length, V: number of features\n",
    "        feature = tf.reshape(inputs, shape=(-1, inputs.shape[2], inputs.shape[3]))  # (B*N, T, V)\n",
    "        feature = self.feature_trans_weight(feature) # (B*N, T, ft_dim)\n",
    "        feature = self.lstm(feature) # (B*N, T, units)\n",
    "        attn = tf.matmul(tf.expand_dims(feature[:,-1,:], axis=1), feature, transpose_b=True) # (B*N, 1, T)\n",
    "        attn = tf.nn.softmax(attn, axis=-1) # (B*N, 1, T)\n",
    "        attn = tf.reshape(attn, shape=(inputs.shape[0], inputs.shape[1], -1, 1)) # (B, N, T, 1)\n",
    "\n",
    "        feature = tf.reshape(feature, shape=(inputs.shape[0], inputs.shape[1], feature.shape[1], feature.shape[2])) # (B, N, T, units)\n",
    "        context = tf.math.reduce_sum(attn*feature, axis=2) # (B, N, units)\n",
    "        return context\n",
    "\n",
    "class ContextNormalize(Layer):\n",
    "    def __init__(self):\n",
    "        super(ContextNormalize, self).__init__()\n",
    "\n",
    "    def build(self, input_shape):\n",
    "        self.norm_weight = self.add_weight(name='norm_weight',\n",
    "                                           shape=input_shape,\n",
    "                                           initializer='uniform',\n",
    "                                           trainable=True)\n",
    "        self.norm_bias = self.add_weight(name='norm_bias',\n",
    "                                         shape=input_shape,\n",
    "                                         initializer='uniform',\n",
    "                                         trainable=True)\n",
    "\n",
    "    def call(self, context, *args, **kwargs):\n",
    "        # context: (B, N, units)\n",
    "        context = (context - tf.math.reduce_mean(context))/tf.math.reduce_std(context) # (B, N, units)\n",
    "        context = self.norm_weight * context + self.norm_bias\n",
    "        return context"
   ]
  },
  {
   "cell_type": "code",
   "execution_count": 72,
   "metadata": {},
   "outputs": [
    {
     "data": {
      "text/plain": [
       "TensorShape([5294, 3, 72])"
      ]
     },
     "execution_count": 72,
     "metadata": {},
     "output_type": "execute_result"
    }
   ],
   "source": [
    "attn1 = AttentionLSTM(72,64)(test)\n",
    "attn1.shape"
   ]
  },
  {
   "cell_type": "code",
   "execution_count": 111,
   "metadata": {},
   "outputs": [
    {
     "name": "stdout",
     "output_type": "stream",
     "text": [
      "(5304, 1, 72) (5304,)\n",
      "(5596, 1, 72) (5596,)\n",
      "(5402, 1, 72) (5402,)\n"
     ]
    }
   ],
   "source": [
    "U182_x = AttentionLSTM(72,64)(U182_x)\n",
    "A030200_x = AttentionLSTM(72,64)(A030200_x)\n",
    "A033780_x = AttentionLSTM(72,64)(A033780_x)\n",
    "print(U182_x.shape, U182_y.shape)\n",
    "print(A030200_x.shape, A030200_y.shape)\n",
    "print(A033780_x.shape, A033780_y.shape)"
   ]
  },
  {
   "cell_type": "code",
   "execution_count": null,
   "metadata": {},
   "outputs": [],
   "source": []
  }
 ],
 "metadata": {
  "kernelspec": {
   "display_name": "Python 3",
   "language": "python",
   "name": "python3"
  },
  "language_info": {
   "codemirror_mode": {
    "name": "ipython",
    "version": 3
   },
   "file_extension": ".py",
   "mimetype": "text/x-python",
   "name": "python",
   "nbconvert_exporter": "python",
   "pygments_lexer": "ipython3",
   "version": "3.8.5"
  }
 },
 "nbformat": 4,
 "nbformat_minor": 4
}
